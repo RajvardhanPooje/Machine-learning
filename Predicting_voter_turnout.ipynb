{
 "cells": [
  {
   "cell_type": "code",
   "execution_count": 29,
   "metadata": {},
   "outputs": [],
   "source": [
    "import numpy as np\n",
    "import pandas as pd\n",
    "import seaborn as sns\n",
    "import matplotlib.pyplot as plt\n",
    "%matplotlib inline"
   ]
  },
  {
   "cell_type": "code",
   "execution_count": 30,
   "metadata": {},
   "outputs": [
    {
     "data": {
      "text/html": [
       "<div>\n",
       "<style scoped>\n",
       "    .dataframe tbody tr th:only-of-type {\n",
       "        vertical-align: middle;\n",
       "    }\n",
       "\n",
       "    .dataframe tbody tr th {\n",
       "        vertical-align: top;\n",
       "    }\n",
       "\n",
       "    .dataframe thead th {\n",
       "        text-align: right;\n",
       "    }\n",
       "</style>\n",
       "<table border=\"1\" class=\"dataframe\">\n",
       "  <thead>\n",
       "    <tr style=\"text-align: right;\">\n",
       "      <th></th>\n",
       "      <th>Unnamed: 0</th>\n",
       "      <th>vote</th>\n",
       "      <th>age</th>\n",
       "      <th>economic.cond.national</th>\n",
       "      <th>economic.cond.household</th>\n",
       "      <th>Blair</th>\n",
       "      <th>Hague</th>\n",
       "      <th>Europe</th>\n",
       "      <th>political.knowledge</th>\n",
       "      <th>gender</th>\n",
       "    </tr>\n",
       "  </thead>\n",
       "  <tbody>\n",
       "    <tr>\n",
       "      <th>0</th>\n",
       "      <td>1</td>\n",
       "      <td>Labour</td>\n",
       "      <td>43</td>\n",
       "      <td>3</td>\n",
       "      <td>3</td>\n",
       "      <td>4</td>\n",
       "      <td>1</td>\n",
       "      <td>2</td>\n",
       "      <td>2</td>\n",
       "      <td>female</td>\n",
       "    </tr>\n",
       "    <tr>\n",
       "      <th>1</th>\n",
       "      <td>2</td>\n",
       "      <td>Labour</td>\n",
       "      <td>36</td>\n",
       "      <td>4</td>\n",
       "      <td>4</td>\n",
       "      <td>4</td>\n",
       "      <td>4</td>\n",
       "      <td>5</td>\n",
       "      <td>2</td>\n",
       "      <td>male</td>\n",
       "    </tr>\n",
       "    <tr>\n",
       "      <th>2</th>\n",
       "      <td>3</td>\n",
       "      <td>Labour</td>\n",
       "      <td>35</td>\n",
       "      <td>4</td>\n",
       "      <td>4</td>\n",
       "      <td>5</td>\n",
       "      <td>2</td>\n",
       "      <td>3</td>\n",
       "      <td>2</td>\n",
       "      <td>male</td>\n",
       "    </tr>\n",
       "    <tr>\n",
       "      <th>3</th>\n",
       "      <td>4</td>\n",
       "      <td>Labour</td>\n",
       "      <td>24</td>\n",
       "      <td>4</td>\n",
       "      <td>2</td>\n",
       "      <td>2</td>\n",
       "      <td>1</td>\n",
       "      <td>4</td>\n",
       "      <td>0</td>\n",
       "      <td>female</td>\n",
       "    </tr>\n",
       "    <tr>\n",
       "      <th>4</th>\n",
       "      <td>5</td>\n",
       "      <td>Labour</td>\n",
       "      <td>41</td>\n",
       "      <td>2</td>\n",
       "      <td>2</td>\n",
       "      <td>1</td>\n",
       "      <td>1</td>\n",
       "      <td>6</td>\n",
       "      <td>2</td>\n",
       "      <td>male</td>\n",
       "    </tr>\n",
       "  </tbody>\n",
       "</table>\n",
       "</div>"
      ],
      "text/plain": [
       "   Unnamed: 0    vote  age  economic.cond.national  economic.cond.household  \\\n",
       "0           1  Labour   43                       3                        3   \n",
       "1           2  Labour   36                       4                        4   \n",
       "2           3  Labour   35                       4                        4   \n",
       "3           4  Labour   24                       4                        2   \n",
       "4           5  Labour   41                       2                        2   \n",
       "\n",
       "   Blair  Hague  Europe  political.knowledge  gender  \n",
       "0      4      1       2                    2  female  \n",
       "1      4      4       5                    2    male  \n",
       "2      5      2       3                    2    male  \n",
       "3      2      1       4                    0  female  \n",
       "4      1      1       6                    2    male  "
      ]
     },
     "execution_count": 30,
     "metadata": {},
     "output_type": "execute_result"
    }
   ],
   "source": [
    "df = pd.read_excel('Election_Data.xlsx', sheet_name=1)\n",
    "df.head()"
   ]
  },
  {
   "cell_type": "code",
   "execution_count": 31,
   "metadata": {},
   "outputs": [
    {
     "name": "stdout",
     "output_type": "stream",
     "text": [
      "<class 'pandas.core.frame.DataFrame'>\n",
      "RangeIndex: 1525 entries, 0 to 1524\n",
      "Data columns (total 10 columns):\n",
      "Unnamed: 0                 1525 non-null int64\n",
      "vote                       1525 non-null object\n",
      "age                        1525 non-null int64\n",
      "economic.cond.national     1525 non-null int64\n",
      "economic.cond.household    1525 non-null int64\n",
      "Blair                      1525 non-null int64\n",
      "Hague                      1525 non-null int64\n",
      "Europe                     1525 non-null int64\n",
      "political.knowledge        1525 non-null int64\n",
      "gender                     1525 non-null object\n",
      "dtypes: int64(8), object(2)\n",
      "memory usage: 119.2+ KB\n"
     ]
    }
   ],
   "source": [
    "df.info()"
   ]
  },
  {
   "cell_type": "code",
   "execution_count": 32,
   "metadata": {},
   "outputs": [
    {
     "data": {
      "text/html": [
       "<div>\n",
       "<style scoped>\n",
       "    .dataframe tbody tr th:only-of-type {\n",
       "        vertical-align: middle;\n",
       "    }\n",
       "\n",
       "    .dataframe tbody tr th {\n",
       "        vertical-align: top;\n",
       "    }\n",
       "\n",
       "    .dataframe thead th {\n",
       "        text-align: right;\n",
       "    }\n",
       "</style>\n",
       "<table border=\"1\" class=\"dataframe\">\n",
       "  <thead>\n",
       "    <tr style=\"text-align: right;\">\n",
       "      <th></th>\n",
       "      <th>Unnamed: 0</th>\n",
       "      <th>age</th>\n",
       "      <th>economic.cond.national</th>\n",
       "      <th>economic.cond.household</th>\n",
       "      <th>Blair</th>\n",
       "      <th>Hague</th>\n",
       "      <th>Europe</th>\n",
       "      <th>political.knowledge</th>\n",
       "    </tr>\n",
       "  </thead>\n",
       "  <tbody>\n",
       "    <tr>\n",
       "      <th>count</th>\n",
       "      <td>1525.000000</td>\n",
       "      <td>1525.000000</td>\n",
       "      <td>1525.000000</td>\n",
       "      <td>1525.000000</td>\n",
       "      <td>1525.000000</td>\n",
       "      <td>1525.000000</td>\n",
       "      <td>1525.000000</td>\n",
       "      <td>1525.000000</td>\n",
       "    </tr>\n",
       "    <tr>\n",
       "      <th>mean</th>\n",
       "      <td>763.000000</td>\n",
       "      <td>54.182295</td>\n",
       "      <td>3.245902</td>\n",
       "      <td>3.140328</td>\n",
       "      <td>3.334426</td>\n",
       "      <td>2.746885</td>\n",
       "      <td>6.728525</td>\n",
       "      <td>1.542295</td>\n",
       "    </tr>\n",
       "    <tr>\n",
       "      <th>std</th>\n",
       "      <td>440.373894</td>\n",
       "      <td>15.711209</td>\n",
       "      <td>0.880969</td>\n",
       "      <td>0.929951</td>\n",
       "      <td>1.174824</td>\n",
       "      <td>1.230703</td>\n",
       "      <td>3.297538</td>\n",
       "      <td>1.083315</td>\n",
       "    </tr>\n",
       "    <tr>\n",
       "      <th>min</th>\n",
       "      <td>1.000000</td>\n",
       "      <td>24.000000</td>\n",
       "      <td>1.000000</td>\n",
       "      <td>1.000000</td>\n",
       "      <td>1.000000</td>\n",
       "      <td>1.000000</td>\n",
       "      <td>1.000000</td>\n",
       "      <td>0.000000</td>\n",
       "    </tr>\n",
       "    <tr>\n",
       "      <th>25%</th>\n",
       "      <td>382.000000</td>\n",
       "      <td>41.000000</td>\n",
       "      <td>3.000000</td>\n",
       "      <td>3.000000</td>\n",
       "      <td>2.000000</td>\n",
       "      <td>2.000000</td>\n",
       "      <td>4.000000</td>\n",
       "      <td>0.000000</td>\n",
       "    </tr>\n",
       "    <tr>\n",
       "      <th>50%</th>\n",
       "      <td>763.000000</td>\n",
       "      <td>53.000000</td>\n",
       "      <td>3.000000</td>\n",
       "      <td>3.000000</td>\n",
       "      <td>4.000000</td>\n",
       "      <td>2.000000</td>\n",
       "      <td>6.000000</td>\n",
       "      <td>2.000000</td>\n",
       "    </tr>\n",
       "    <tr>\n",
       "      <th>75%</th>\n",
       "      <td>1144.000000</td>\n",
       "      <td>67.000000</td>\n",
       "      <td>4.000000</td>\n",
       "      <td>4.000000</td>\n",
       "      <td>4.000000</td>\n",
       "      <td>4.000000</td>\n",
       "      <td>10.000000</td>\n",
       "      <td>2.000000</td>\n",
       "    </tr>\n",
       "    <tr>\n",
       "      <th>max</th>\n",
       "      <td>1525.000000</td>\n",
       "      <td>93.000000</td>\n",
       "      <td>5.000000</td>\n",
       "      <td>5.000000</td>\n",
       "      <td>5.000000</td>\n",
       "      <td>5.000000</td>\n",
       "      <td>11.000000</td>\n",
       "      <td>3.000000</td>\n",
       "    </tr>\n",
       "  </tbody>\n",
       "</table>\n",
       "</div>"
      ],
      "text/plain": [
       "        Unnamed: 0          age  economic.cond.national  \\\n",
       "count  1525.000000  1525.000000             1525.000000   \n",
       "mean    763.000000    54.182295                3.245902   \n",
       "std     440.373894    15.711209                0.880969   \n",
       "min       1.000000    24.000000                1.000000   \n",
       "25%     382.000000    41.000000                3.000000   \n",
       "50%     763.000000    53.000000                3.000000   \n",
       "75%    1144.000000    67.000000                4.000000   \n",
       "max    1525.000000    93.000000                5.000000   \n",
       "\n",
       "       economic.cond.household        Blair        Hague       Europe  \\\n",
       "count              1525.000000  1525.000000  1525.000000  1525.000000   \n",
       "mean                  3.140328     3.334426     2.746885     6.728525   \n",
       "std                   0.929951     1.174824     1.230703     3.297538   \n",
       "min                   1.000000     1.000000     1.000000     1.000000   \n",
       "25%                   3.000000     2.000000     2.000000     4.000000   \n",
       "50%                   3.000000     4.000000     2.000000     6.000000   \n",
       "75%                   4.000000     4.000000     4.000000    10.000000   \n",
       "max                   5.000000     5.000000     5.000000    11.000000   \n",
       "\n",
       "       political.knowledge  \n",
       "count          1525.000000  \n",
       "mean              1.542295  \n",
       "std               1.083315  \n",
       "min               0.000000  \n",
       "25%               0.000000  \n",
       "50%               2.000000  \n",
       "75%               2.000000  \n",
       "max               3.000000  "
      ]
     },
     "execution_count": 32,
     "metadata": {},
     "output_type": "execute_result"
    }
   ],
   "source": [
    "df.describe()"
   ]
  },
  {
   "cell_type": "code",
   "execution_count": 33,
   "metadata": {},
   "outputs": [
    {
     "data": {
      "text/plain": [
       "Unnamed: 0                 0\n",
       "vote                       0\n",
       "age                        0\n",
       "economic.cond.national     0\n",
       "economic.cond.household    0\n",
       "Blair                      0\n",
       "Hague                      0\n",
       "Europe                     0\n",
       "political.knowledge        0\n",
       "gender                     0\n",
       "dtype: int64"
      ]
     },
     "execution_count": 33,
     "metadata": {},
     "output_type": "execute_result"
    }
   ],
   "source": [
    "df.isnull().sum()"
   ]
  },
  {
   "cell_type": "code",
   "execution_count": 34,
   "metadata": {},
   "outputs": [
    {
     "data": {
      "text/plain": [
       "(1525, 10)"
      ]
     },
     "execution_count": 34,
     "metadata": {},
     "output_type": "execute_result"
    }
   ],
   "source": [
    "df.shape"
   ]
  },
  {
   "cell_type": "code",
   "execution_count": 35,
   "metadata": {},
   "outputs": [],
   "source": [
    "## There are no null values in the dataset\n",
    "## Median age of voters is 53\n",
    "## Median value of economic.cond.national and economic.cond.household is 3\n",
    "## Mean value of economic.cond.national and economic.cond.household is above 3 which indicates majority of people fall in to \n",
    "##   middle class income range.\n",
    "## Mean value of blair is more than that of Hague median values are same for both blair and hague\n",
    "## Mean value of eurosceptic sentiment is more than 6 with high standard deviation which indicates values are not close to \n",
    "   ## the mean \n",
    "## Majority of the people have average political knowledge"
   ]
  },
  {
   "cell_type": "markdown",
   "metadata": {},
   "source": [
    "### Exploratory data analysis"
   ]
  },
  {
   "cell_type": "markdown",
   "metadata": {},
   "source": [
    "#### Univariate analysis"
   ]
  },
  {
   "cell_type": "code",
   "execution_count": 36,
   "metadata": {},
   "outputs": [
    {
     "data": {
      "image/png": "[encoded data removed]",
      "text/plain": [
       "<Figure size 432x288 with 1 Axes>"
      ]
     },
     "metadata": {
      "needs_background": "light"
     },
     "output_type": "display_data"
    }
   ],
   "source": [
    "sns.countplot(df['gender']);"
   ]
  },
  {
   "cell_type": "markdown",
   "metadata": {},
   "source": [
    "There are more number of female votes than male voters"
   ]
  },
  {
   "cell_type": "code",
   "execution_count": 37,
   "metadata": {},
   "outputs": [
    {
     "data": {
      "image/png": "[encoded data removed]",
      "text/plain": [
       "<Figure size 432x288 with 1 Axes>"
      ]
     },
     "metadata": {
      "needs_background": "light"
     },
     "output_type": "display_data"
    }
   ],
   "source": [
    "sns.countplot(df['vote']);"
   ]
  },
  {
   "cell_type": "code",
   "execution_count": 38,
   "metadata": {},
   "outputs": [],
   "source": [
    "## More number of voters are in favour of labour party than conservative party, Labour party has double the support than \n",
    "##  conservative party"
   ]
  },
  {
   "cell_type": "code",
   "execution_count": 39,
   "metadata": {},
   "outputs": [
    {
     "data": {
      "image/png": "[encoded data removed]",
      "text/plain": [
       "<Figure size 432x288 with 1 Axes>"
      ]
     },
     "metadata": {
      "needs_background": "light"
     },
     "output_type": "display_data"
    }
   ],
   "source": [
    "sns.distplot(df['age']);"
   ]
  },
  {
   "cell_type": "code",
   "execution_count": 40,
   "metadata": {},
   "outputs": [],
   "source": [
    "## Age is mostly normally distributed"
   ]
  },
  {
   "cell_type": "code",
   "execution_count": 41,
   "metadata": {},
   "outputs": [
    {
     "data": {
      "image/png": "[encoded data removed]",
      "text/plain": [
       "<Figure size 432x288 with 1 Axes>"
      ]
     },
     "metadata": {
      "needs_background": "light"
     },
     "output_type": "display_data"
    }
   ],
   "source": [
    "sns.countplot(df['economic.cond.national']);"
   ]
  },
  {
   "cell_type": "code",
   "execution_count": 42,
   "metadata": {},
   "outputs": [],
   "source": [
    "## Majority of the voters fall into 3 and 4 of economic condition national"
   ]
  },
  {
   "cell_type": "code",
   "execution_count": 43,
   "metadata": {},
   "outputs": [
    {
     "data": {
      "image/png": "[encoded data removed]",
      "text/plain": [
       "<Figure size 432x288 with 1 Axes>"
      ]
     },
     "metadata": {
      "needs_background": "light"
     },
     "output_type": "display_data"
    }
   ],
   "source": [
    "sns.countplot(df['economic.cond.household']);"
   ]
  },
  {
   "cell_type": "code",
   "execution_count": 44,
   "metadata": {},
   "outputs": [],
   "source": [
    "## Majority of the voters fall into 3 and 4 of economic condition household"
   ]
  },
  {
   "cell_type": "code",
   "execution_count": 45,
   "metadata": {},
   "outputs": [
    {
     "data": {
      "image/png": "[encoded data removed]",
      "text/plain": [
       "<Figure size 432x288 with 1 Axes>"
      ]
     },
     "metadata": {
      "needs_background": "light"
     },
     "output_type": "display_data"
    }
   ],
   "source": [
    "sns.countplot(df['Blair']);"
   ]
  },
  {
   "cell_type": "code",
   "execution_count": 46,
   "metadata": {},
   "outputs": [],
   "source": [
    "## Labour leaders have a majority of vote as 4"
   ]
  },
  {
   "cell_type": "code",
   "execution_count": 47,
   "metadata": {},
   "outputs": [
    {
     "data": {
      "image/png": "[encoded data removed]",
      "text/plain": [
       "<Figure size 432x288 with 1 Axes>"
      ]
     },
     "metadata": {
      "needs_background": "light"
     },
     "output_type": "display_data"
    }
   ],
   "source": [
    "sns.countplot(df['Hague']);"
   ]
  },
  {
   "cell_type": "code",
   "execution_count": 48,
   "metadata": {},
   "outputs": [],
   "source": [
    "## Conservative leaders have a majority of vote as 2"
   ]
  },
  {
   "cell_type": "code",
   "execution_count": 49,
   "metadata": {},
   "outputs": [
    {
     "data": {
      "image/png": "[encoded data removed]",
      "text/plain": [
       "<Figure size 432x288 with 1 Axes>"
      ]
     },
     "metadata": {
      "needs_background": "light"
     },
     "output_type": "display_data"
    }
   ],
   "source": [
    "sns.countplot(df['Europe']);"
   ]
  },
  {
   "cell_type": "code",
   "execution_count": 50,
   "metadata": {},
   "outputs": [],
   "source": [
    "## More no of people have strong Eurosceptic sentiment"
   ]
  },
  {
   "cell_type": "code",
   "execution_count": 51,
   "metadata": {},
   "outputs": [
    {
     "data": {
      "image/png": "[encoded data removed]",
      "text/plain": [
       "<Figure size 432x288 with 1 Axes>"
      ]
     },
     "metadata": {
      "needs_background": "light"
     },
     "output_type": "display_data"
    }
   ],
   "source": [
    "sns.countplot(df['political.knowledge']);"
   ]
  },
  {
   "cell_type": "code",
   "execution_count": 52,
   "metadata": {},
   "outputs": [],
   "source": [
    "## Majority of the voters have good knowledge of european integration"
   ]
  },
  {
   "cell_type": "code",
   "execution_count": 53,
   "metadata": {},
   "outputs": [
    {
     "data": {
      "image/png": "[encoded data removed]",
      "text/plain": [
       "<Figure size 432x288 with 1 Axes>"
      ]
     },
     "metadata": {
      "needs_background": "light"
     },
     "output_type": "display_data"
    }
   ],
   "source": [
    "sns.countplot(df['vote']);"
   ]
  },
  {
   "cell_type": "code",
   "execution_count": 54,
   "metadata": {},
   "outputs": [],
   "source": [
    "## The data is not balanced"
   ]
  },
  {
   "cell_type": "markdown",
   "metadata": {},
   "source": [
    "#### Bivariate analysis"
   ]
  },
  {
   "cell_type": "code",
   "execution_count": 55,
   "metadata": {},
   "outputs": [],
   "source": [
    "num_cols = ['age','economic.cond.national','economic.cond.household','Blair','Hague','Europe','political.knowledge']"
   ]
  },
  {
   "cell_type": "code",
   "execution_count": 57,
   "metadata": {},
   "outputs": [
    {
     "name": "stdout",
     "output_type": "stream",
     "text": [
      "AGE\n"
     ]
    },
    {
     "data": {
      "image/png": "[encoded data removed]",
      "text/plain": [
       "<Figure size 432x288 with 1 Axes>"
      ]
     },
     "metadata": {
      "needs_background": "light"
     },
     "output_type": "display_data"
    },
    {
     "name": "stdout",
     "output_type": "stream",
     "text": [
      "ECONOMIC.COND.NATIONAL\n"
     ]
    },
    {
     "data": {
      "image/png": "[encoded data removed]",
      "text/plain": [
       "<Figure size 432x288 with 1 Axes>"
      ]
     },
     "metadata": {
      "needs_background": "light"
     },
     "output_type": "display_data"
    },
    {
     "name": "stdout",
     "output_type": "stream",
     "text": [
      "ECONOMIC.COND.HOUSEHOLD\n"
     ]
    },
    {
     "data": {
      "image/png": "[encoded data removed]",
      "text/plain": [
       "<Figure size 432x288 with 1 Axes>"
      ]
     },
     "metadata": {
      "needs_background": "light"
     },
     "output_type": "display_data"
    },
    {
     "name": "stdout",
     "output_type": "stream",
     "text": [
      "BLAIR\n"
     ]
    },
    {
     "data": {
      "image/png": "[encoded data removed]",
      "text/plain": [
       "<Figure size 432x288 with 1 Axes>"
      ]
     },
     "metadata": {
      "needs_background": "light"
     },
     "output_type": "display_data"
    },
    {
     "name": "stdout",
     "output_type": "stream",
     "text": [
      "HAGUE\n"
     ]
    },
    {
     "data": {
      "image/png": "[encoded data removed]",
      "text/plain": [
       "<Figure size 432x288 with 1 Axes>"
      ]
     },
     "metadata": {
      "needs_background": "light"
     },
     "output_type": "display_data"
    },
    {
     "name": "stdout",
     "output_type": "stream",
     "text": [
      "EUROPE\n"
     ]
    },
    {
     "data": {
      "image/png": "[encoded data removed]",
      "text/plain": [
       "<Figure size 432x288 with 1 Axes>"
      ]
     },
     "metadata": {
      "needs_background": "light"
     },
     "output_type": "display_data"
    },
    {
     "name": "stdout",
     "output_type": "stream",
     "text": [
      "POLITICAL.KNOWLEDGE\n"
     ]
    },
    {
     "data": {
      "image/png": "[encoded data removed]",
      "text/plain": [
       "<Figure size 432x288 with 1 Axes>"
      ]
     },
     "metadata": {
      "needs_background": "light"
     },
     "output_type": "display_data"
    }
   ],
   "source": [
    "for col in num_cols:\n",
    "    print(col.upper())\n",
    "    sns.boxplot(x='vote', y=col, data=df, orient='v')\n",
    "    plt.show()"
   ]
  },
  {
   "cell_type": "code",
   "execution_count": 58,
   "metadata": {},
   "outputs": [],
   "source": [
    "## Age and Europe have no outliers other than that all other variables have outliers\n",
    "## Age and Europe are mostly normally distribued for both labour and conservative party voters"
   ]
  },
  {
   "cell_type": "markdown",
   "metadata": {},
   "source": [
    "There is no high correleanity between numerical the columns"
   ]
  },
  {
   "cell_type": "markdown",
   "metadata": {},
   "source": [
    "## Encoding the data"
   ]
  },
  {
   "cell_type": "code",
   "execution_count": 59,
   "metadata": {},
   "outputs": [
    {
     "name": "stdout",
     "output_type": "stream",
     "text": [
      "<class 'pandas.core.frame.DataFrame'>\n",
      "RangeIndex: 1525 entries, 0 to 1524\n",
      "Data columns (total 10 columns):\n",
      "Unnamed: 0                 1525 non-null int64\n",
      "vote                       1525 non-null object\n",
      "age                        1525 non-null int64\n",
      "economic.cond.national     1525 non-null int64\n",
      "economic.cond.household    1525 non-null int64\n",
      "Blair                      1525 non-null int64\n",
      "Hague                      1525 non-null int64\n",
      "Europe                     1525 non-null int64\n",
      "political.knowledge        1525 non-null int64\n",
      "gender                     1525 non-null object\n",
      "dtypes: int64(8), object(2)\n",
      "memory usage: 119.2+ KB\n"
     ]
    }
   ],
   "source": [
    "df.info()"
   ]
  },
  {
   "cell_type": "code",
   "execution_count": 60,
   "metadata": {},
   "outputs": [],
   "source": [
    "## Converting the values: Labour to 1 and Conservative to 0\n",
    "df['vote'] = df['vote'].map({'Labour': 1, 'Conservative': 0})"
   ]
  },
  {
   "cell_type": "code",
   "execution_count": 61,
   "metadata": {},
   "outputs": [],
   "source": [
    "## Removing the column 'Unnamed: 0'\n",
    "df.drop('Unnamed: 0', axis=1, inplace=True)"
   ]
  },
  {
   "cell_type": "code",
   "execution_count": 62,
   "metadata": {},
   "outputs": [],
   "source": [
    "## Splitting the data into X and Y\n",
    "X = df.drop('vote', axis=1)\n",
    "Y = df.vote"
   ]
  },
  {
   "cell_type": "code",
   "execution_count": 63,
   "metadata": {},
   "outputs": [
    {
     "data": {
      "text/html": [
       "<div>\n",
       "<style scoped>\n",
       "    .dataframe tbody tr th:only-of-type {\n",
       "        vertical-align: middle;\n",
       "    }\n",
       "\n",
       "    .dataframe tbody tr th {\n",
       "        vertical-align: top;\n",
       "    }\n",
       "\n",
       "    .dataframe thead th {\n",
       "        text-align: right;\n",
       "    }\n",
       "</style>\n",
       "<table border=\"1\" class=\"dataframe\">\n",
       "  <thead>\n",
       "    <tr style=\"text-align: right;\">\n",
       "      <th></th>\n",
       "      <th>age</th>\n",
       "      <th>economic.cond.national</th>\n",
       "      <th>economic.cond.household</th>\n",
       "      <th>Blair</th>\n",
       "      <th>Hague</th>\n",
       "      <th>Europe</th>\n",
       "      <th>political.knowledge</th>\n",
       "      <th>gender</th>\n",
       "    </tr>\n",
       "  </thead>\n",
       "  <tbody>\n",
       "    <tr>\n",
       "      <th>0</th>\n",
       "      <td>43</td>\n",
       "      <td>3</td>\n",
       "      <td>3</td>\n",
       "      <td>4</td>\n",
       "      <td>1</td>\n",
       "      <td>2</td>\n",
       "      <td>2</td>\n",
       "      <td>female</td>\n",
       "    </tr>\n",
       "    <tr>\n",
       "      <th>1</th>\n",
       "      <td>36</td>\n",
       "      <td>4</td>\n",
       "      <td>4</td>\n",
       "      <td>4</td>\n",
       "      <td>4</td>\n",
       "      <td>5</td>\n",
       "      <td>2</td>\n",
       "      <td>male</td>\n",
       "    </tr>\n",
       "    <tr>\n",
       "      <th>2</th>\n",
       "      <td>35</td>\n",
       "      <td>4</td>\n",
       "      <td>4</td>\n",
       "      <td>5</td>\n",
       "      <td>2</td>\n",
       "      <td>3</td>\n",
       "      <td>2</td>\n",
       "      <td>male</td>\n",
       "    </tr>\n",
       "    <tr>\n",
       "      <th>3</th>\n",
       "      <td>24</td>\n",
       "      <td>4</td>\n",
       "      <td>2</td>\n",
       "      <td>2</td>\n",
       "      <td>1</td>\n",
       "      <td>4</td>\n",
       "      <td>0</td>\n",
       "      <td>female</td>\n",
       "    </tr>\n",
       "    <tr>\n",
       "      <th>4</th>\n",
       "      <td>41</td>\n",
       "      <td>2</td>\n",
       "      <td>2</td>\n",
       "      <td>1</td>\n",
       "      <td>1</td>\n",
       "      <td>6</td>\n",
       "      <td>2</td>\n",
       "      <td>male</td>\n",
       "    </tr>\n",
       "  </tbody>\n",
       "</table>\n",
       "</div>"
      ],
      "text/plain": [
       "   age  economic.cond.national  economic.cond.household  Blair  Hague  Europe  \\\n",
       "0   43                       3                        3      4      1       2   \n",
       "1   36                       4                        4      4      4       5   \n",
       "2   35                       4                        4      5      2       3   \n",
       "3   24                       4                        2      2      1       4   \n",
       "4   41                       2                        2      1      1       6   \n",
       "\n",
       "   political.knowledge  gender  \n",
       "0                    2  female  \n",
       "1                    2    male  \n",
       "2                    2    male  \n",
       "3                    0  female  \n",
       "4                    2    male  "
      ]
     },
     "execution_count": 63,
     "metadata": {},
     "output_type": "execute_result"
    }
   ],
   "source": [
    "X.head()"
   ]
  },
  {
   "cell_type": "code",
   "execution_count": 64,
   "metadata": {},
   "outputs": [
    {
     "data": {
      "text/plain": [
       "0    1\n",
       "1    1\n",
       "2    1\n",
       "3    1\n",
       "4    1\n",
       "Name: vote, dtype: int64"
      ]
     },
     "execution_count": 64,
     "metadata": {},
     "output_type": "execute_result"
    }
   ],
   "source": [
    "Y.head()"
   ]
  },
  {
   "cell_type": "code",
   "execution_count": 65,
   "metadata": {},
   "outputs": [],
   "source": [
    "X = pd.get_dummies(X, drop_first=True)"
   ]
  },
  {
   "cell_type": "code",
   "execution_count": 66,
   "metadata": {},
   "outputs": [
    {
     "name": "stdout",
     "output_type": "stream",
     "text": [
      "<class 'pandas.core.frame.DataFrame'>\n",
      "RangeIndex: 1525 entries, 0 to 1524\n",
      "Data columns (total 8 columns):\n",
      "age                        1525 non-null int64\n",
      "economic.cond.national     1525 non-null int64\n",
      "economic.cond.household    1525 non-null int64\n",
      "Blair                      1525 non-null int64\n",
      "Hague                      1525 non-null int64\n",
      "Europe                     1525 non-null int64\n",
      "political.knowledge        1525 non-null int64\n",
      "gender_male                1525 non-null uint8\n",
      "dtypes: int64(7), uint8(1)\n",
      "memory usage: 85.0 KB\n"
     ]
    }
   ],
   "source": [
    "X.info()"
   ]
  },
  {
   "cell_type": "code",
   "execution_count": 67,
   "metadata": {},
   "outputs": [
    {
     "data": {
      "text/html": [
       "<div>\n",
       "<style scoped>\n",
       "    .dataframe tbody tr th:only-of-type {\n",
       "        vertical-align: middle;\n",
       "    }\n",
       "\n",
       "    .dataframe tbody tr th {\n",
       "        vertical-align: top;\n",
       "    }\n",
       "\n",
       "    .dataframe thead th {\n",
       "        text-align: right;\n",
       "    }\n",
       "</style>\n",
       "<table border=\"1\" class=\"dataframe\">\n",
       "  <thead>\n",
       "    <tr style=\"text-align: right;\">\n",
       "      <th></th>\n",
       "      <th>age</th>\n",
       "      <th>economic.cond.national</th>\n",
       "      <th>economic.cond.household</th>\n",
       "      <th>Blair</th>\n",
       "      <th>Hague</th>\n",
       "      <th>Europe</th>\n",
       "      <th>political.knowledge</th>\n",
       "      <th>gender_male</th>\n",
       "    </tr>\n",
       "  </thead>\n",
       "  <tbody>\n",
       "    <tr>\n",
       "      <th>0</th>\n",
       "      <td>43</td>\n",
       "      <td>3</td>\n",
       "      <td>3</td>\n",
       "      <td>4</td>\n",
       "      <td>1</td>\n",
       "      <td>2</td>\n",
       "      <td>2</td>\n",
       "      <td>0</td>\n",
       "    </tr>\n",
       "    <tr>\n",
       "      <th>1</th>\n",
       "      <td>36</td>\n",
       "      <td>4</td>\n",
       "      <td>4</td>\n",
       "      <td>4</td>\n",
       "      <td>4</td>\n",
       "      <td>5</td>\n",
       "      <td>2</td>\n",
       "      <td>1</td>\n",
       "    </tr>\n",
       "    <tr>\n",
       "      <th>2</th>\n",
       "      <td>35</td>\n",
       "      <td>4</td>\n",
       "      <td>4</td>\n",
       "      <td>5</td>\n",
       "      <td>2</td>\n",
       "      <td>3</td>\n",
       "      <td>2</td>\n",
       "      <td>1</td>\n",
       "    </tr>\n",
       "    <tr>\n",
       "      <th>3</th>\n",
       "      <td>24</td>\n",
       "      <td>4</td>\n",
       "      <td>2</td>\n",
       "      <td>2</td>\n",
       "      <td>1</td>\n",
       "      <td>4</td>\n",
       "      <td>0</td>\n",
       "      <td>0</td>\n",
       "    </tr>\n",
       "    <tr>\n",
       "      <th>4</th>\n",
       "      <td>41</td>\n",
       "      <td>2</td>\n",
       "      <td>2</td>\n",
       "      <td>1</td>\n",
       "      <td>1</td>\n",
       "      <td>6</td>\n",
       "      <td>2</td>\n",
       "      <td>1</td>\n",
       "    </tr>\n",
       "  </tbody>\n",
       "</table>\n",
       "</div>"
      ],
      "text/plain": [
       "   age  economic.cond.national  economic.cond.household  Blair  Hague  Europe  \\\n",
       "0   43                       3                        3      4      1       2   \n",
       "1   36                       4                        4      4      4       5   \n",
       "2   35                       4                        4      5      2       3   \n",
       "3   24                       4                        2      2      1       4   \n",
       "4   41                       2                        2      1      1       6   \n",
       "\n",
       "   political.knowledge  gender_male  \n",
       "0                    2            0  \n",
       "1                    2            1  \n",
       "2                    2            1  \n",
       "3                    0            0  \n",
       "4                    2            1  "
      ]
     },
     "execution_count": 67,
     "metadata": {},
     "output_type": "execute_result"
    }
   ],
   "source": [
    "X.head()"
   ]
  },
  {
   "cell_type": "markdown",
   "metadata": {},
   "source": [
    "### Scaling is necessary here as columns are on different scale and we will apply different models and some models get benefited from scaling"
   ]
  },
  {
   "cell_type": "code",
   "execution_count": 68,
   "metadata": {},
   "outputs": [],
   "source": [
    "## Splitting the data into train and test\n",
    "from sklearn.model_selection import train_test_split"
   ]
  },
  {
   "cell_type": "code",
   "execution_count": 69,
   "metadata": {},
   "outputs": [],
   "source": [
    "X_train, X_test, Y_train, Y_test = train_test_split(X, Y, test_size=0.30, random_state=1, stratify=Y)"
   ]
  },
  {
   "cell_type": "markdown",
   "metadata": {},
   "source": [
    "#### Scaling the data"
   ]
  },
  {
   "cell_type": "code",
   "execution_count": 70,
   "metadata": {},
   "outputs": [],
   "source": [
    "from sklearn.preprocessing import StandardScaler"
   ]
  },
  {
   "cell_type": "code",
   "execution_count": 71,
   "metadata": {},
   "outputs": [],
   "source": [
    "ss = StandardScaler()"
   ]
  },
  {
   "cell_type": "code",
   "execution_count": 72,
   "metadata": {},
   "outputs": [
    {
     "name": "stderr",
     "output_type": "stream",
     "text": [
      "C:\\ProgramData\\Anaconda3\\lib\\site-packages\\pandas\\core\\indexing.py:543: SettingWithCopyWarning: \n",
      "A value is trying to be set on a copy of a slice from a DataFrame.\n",
      "Try using .loc[row_indexer,col_indexer] = value instead\n",
      "\n",
      "See the caveats in the documentation: http://pandas.pydata.org/pandas-docs/stable/indexing.html#indexing-view-versus-copy\n",
      "  self.obj[item] = s\n"
     ]
    },
    {
     "data": {
      "text/html": [
       "<div>\n",
       "<style scoped>\n",
       "    .dataframe tbody tr th:only-of-type {\n",
       "        vertical-align: middle;\n",
       "    }\n",
       "\n",
       "    .dataframe tbody tr th {\n",
       "        vertical-align: top;\n",
       "    }\n",
       "\n",
       "    .dataframe thead th {\n",
       "        text-align: right;\n",
       "    }\n",
       "</style>\n",
       "<table border=\"1\" class=\"dataframe\">\n",
       "  <thead>\n",
       "    <tr style=\"text-align: right;\">\n",
       "      <th></th>\n",
       "      <th>age</th>\n",
       "      <th>economic.cond.national</th>\n",
       "      <th>economic.cond.household</th>\n",
       "      <th>Blair</th>\n",
       "      <th>Hague</th>\n",
       "      <th>Europe</th>\n",
       "      <th>political.knowledge</th>\n",
       "      <th>gender_male</th>\n",
       "    </tr>\n",
       "  </thead>\n",
       "  <tbody>\n",
       "    <tr>\n",
       "      <th>1493</th>\n",
       "      <td>-1.266219</td>\n",
       "      <td>-0.275172</td>\n",
       "      <td>-2.306413</td>\n",
       "      <td>0.558590</td>\n",
       "      <td>-0.646129</td>\n",
       "      <td>-0.203865</td>\n",
       "      <td>0.431470</td>\n",
       "      <td>0</td>\n",
       "    </tr>\n",
       "    <tr>\n",
       "      <th>1431</th>\n",
       "      <td>-0.757323</td>\n",
       "      <td>-0.275172</td>\n",
       "      <td>0.928832</td>\n",
       "      <td>0.558590</td>\n",
       "      <td>0.991447</td>\n",
       "      <td>-1.122980</td>\n",
       "      <td>0.431470</td>\n",
       "      <td>0</td>\n",
       "    </tr>\n",
       "    <tr>\n",
       "      <th>235</th>\n",
       "      <td>-1.138995</td>\n",
       "      <td>0.849765</td>\n",
       "      <td>0.928832</td>\n",
       "      <td>0.558590</td>\n",
       "      <td>-0.646129</td>\n",
       "      <td>0.102507</td>\n",
       "      <td>0.431470</td>\n",
       "      <td>0</td>\n",
       "    </tr>\n",
       "    <tr>\n",
       "      <th>1078</th>\n",
       "      <td>0.642142</td>\n",
       "      <td>0.849765</td>\n",
       "      <td>-0.149583</td>\n",
       "      <td>-1.149191</td>\n",
       "      <td>-1.464917</td>\n",
       "      <td>-0.816608</td>\n",
       "      <td>0.431470</td>\n",
       "      <td>1</td>\n",
       "    </tr>\n",
       "    <tr>\n",
       "      <th>735</th>\n",
       "      <td>-1.075383</td>\n",
       "      <td>0.849765</td>\n",
       "      <td>0.928832</td>\n",
       "      <td>0.558590</td>\n",
       "      <td>-0.646129</td>\n",
       "      <td>-1.429352</td>\n",
       "      <td>1.357786</td>\n",
       "      <td>1</td>\n",
       "    </tr>\n",
       "  </tbody>\n",
       "</table>\n",
       "</div>"
      ],
      "text/plain": [
       "           age  economic.cond.national  economic.cond.household     Blair  \\\n",
       "1493 -1.266219               -0.275172                -2.306413  0.558590   \n",
       "1431 -0.757323               -0.275172                 0.928832  0.558590   \n",
       "235  -1.138995                0.849765                 0.928832  0.558590   \n",
       "1078  0.642142                0.849765                -0.149583 -1.149191   \n",
       "735  -1.075383                0.849765                 0.928832  0.558590   \n",
       "\n",
       "         Hague    Europe  political.knowledge  gender_male  \n",
       "1493 -0.646129 -0.203865             0.431470            0  \n",
       "1431  0.991447 -1.122980             0.431470            0  \n",
       "235  -0.646129  0.102507             0.431470            0  \n",
       "1078 -1.464917 -0.816608             0.431470            1  \n",
       "735  -0.646129 -1.429352             1.357786            1  "
      ]
     },
     "execution_count": 72,
     "metadata": {},
     "output_type": "execute_result"
    }
   ],
   "source": [
    "X_train.loc[:, num_cols] = ss.fit_transform(X_train.loc[:, num_cols])\n",
    "X_train.head()"
   ]
  },
  {
   "cell_type": "code",
   "execution_count": 73,
   "metadata": {},
   "outputs": [
    {
     "name": "stderr",
     "output_type": "stream",
     "text": [
      "C:\\ProgramData\\Anaconda3\\lib\\site-packages\\pandas\\core\\indexing.py:543: SettingWithCopyWarning: \n",
      "A value is trying to be set on a copy of a slice from a DataFrame.\n",
      "Try using .loc[row_indexer,col_indexer] = value instead\n",
      "\n",
      "See the caveats in the documentation: http://pandas.pydata.org/pandas-docs/stable/indexing.html#indexing-view-versus-copy\n",
      "  self.obj[item] = s\n"
     ]
    }
   ],
   "source": [
    "X_test.loc[:, num_cols] = ss.transform(X_test.loc[:, num_cols])"
   ]
  },
  {
   "cell_type": "markdown",
   "metadata": {},
   "source": [
    "#### Applying SMOTE"
   ]
  },
  {
   "cell_type": "code",
   "execution_count": 74,
   "metadata": {},
   "outputs": [],
   "source": [
    "from imblearn.over_sampling import SMOTE"
   ]
  },
  {
   "cell_type": "code",
   "execution_count": 75,
   "metadata": {},
   "outputs": [],
   "source": [
    "sm = SMOTE(random_state =1)\n",
    "X_train_sm, Y_train_sm = sm.fit_resample(X_train, Y_train)"
   ]
  },
  {
   "cell_type": "markdown",
   "metadata": {},
   "source": [
    "## Applying models"
   ]
  },
  {
   "cell_type": "markdown",
   "metadata": {},
   "source": [
    "#### Applying logistic regression model"
   ]
  },
  {
   "cell_type": "code",
   "execution_count": 82,
   "metadata": {},
   "outputs": [],
   "source": [
    "from sklearn.linear_model import LogisticRegression\n",
    "from sklearn.metrics import classification_report, f1_score, accuracy_score, confusion_matrix"
   ]
  },
  {
   "cell_type": "code",
   "execution_count": 83,
   "metadata": {},
   "outputs": [
    {
     "data": {
      "text/plain": [
       "LogisticRegression()"
      ]
     },
     "execution_count": 83,
     "metadata": {},
     "output_type": "execute_result"
    }
   ],
   "source": [
    "lr = LogisticRegression()\n",
    "lr.fit(X_train, Y_train)"
   ]
  },
  {
   "cell_type": "code",
   "execution_count": 84,
   "metadata": {},
   "outputs": [],
   "source": [
    "lr_train_pred = lr.predict(X_train)\n",
    "lr_test_pred = lr.predict(X_test)"
   ]
  },
  {
   "cell_type": "code",
   "execution_count": 85,
   "metadata": {},
   "outputs": [
    {
     "name": "stdout",
     "output_type": "stream",
     "text": [
      "Train F1 score of logistic regression 0.881201044386423\n",
      "Test F1 score of logistic regression 0.8939393939393939\n"
     ]
    }
   ],
   "source": [
    "print('Train F1 score of logistic regression', f1_score(Y_train, lr_train_pred))\n",
    "print('Test F1 score of logistic regression', f1_score(Y_test, lr_test_pred))"
   ]
  },
  {
   "cell_type": "code",
   "execution_count": 86,
   "metadata": {},
   "outputs": [
    {
     "name": "stdout",
     "output_type": "stream",
     "text": [
      "Train accuracy score of logistic regression 0.8294283036551078\n",
      "Test accuracy score of logistic regression 0.8471615720524017\n"
     ]
    }
   ],
   "source": [
    "print('Train accuracy score of logistic regression', accuracy_score(Y_train, lr_train_pred))\n",
    "print('Test accuracy score of logistic regression', accuracy_score(Y_test, lr_test_pred))"
   ]
  },
  {
   "cell_type": "code",
   "execution_count": 87,
   "metadata": {},
   "outputs": [
    {
     "name": "stdout",
     "output_type": "stream",
     "text": [
      "[[ 93  46]\n",
      " [ 24 295]]\n"
     ]
    }
   ],
   "source": [
    "print(confusion_matrix(Y_test, lr_test_pred))"
   ]
  },
  {
   "cell_type": "code",
   "execution_count": 88,
   "metadata": {},
   "outputs": [
    {
     "name": "stdout",
     "output_type": "stream",
     "text": [
      "              precision    recall  f1-score   support\n",
      "\n",
      "           0       0.79      0.67      0.73       139\n",
      "           1       0.87      0.92      0.89       319\n",
      "\n",
      "    accuracy                           0.85       458\n",
      "   macro avg       0.83      0.80      0.81       458\n",
      "weighted avg       0.84      0.85      0.84       458\n",
      "\n"
     ]
    }
   ],
   "source": [
    "print(classification_report(Y_test, lr_test_pred))"
   ]
  },
  {
   "cell_type": "code",
   "execution_count": 89,
   "metadata": {},
   "outputs": [],
   "source": [
    "from sklearn.metrics import roc_auc_score\n",
    "from sklearn.metrics import roc_curve"
   ]
  },
  {
   "cell_type": "code",
   "execution_count": 90,
   "metadata": {},
   "outputs": [
    {
     "name": "stdout",
     "output_type": "stream",
     "text": [
      "AUC: 0.797\n"
     ]
    },
    {
     "data": {
      "text/plain": [
       "[<matplotlib.lines.Line2D at 0x22c69e4fc18>]"
      ]
     },
     "execution_count": 90,
     "metadata": {},
     "output_type": "execute_result"
    },
    {
     "data": {
      "image/png": "[encoded data removed]",
      "text/plain": [
       "<Figure size 432x288 with 1 Axes>"
      ]
     },
     "metadata": {
      "needs_background": "light"
     },
     "output_type": "display_data"
    }
   ],
   "source": [
    "# calculate AUC\n",
    "logreg_test_auc = roc_auc_score(Y_test, lr_test_pred)\n",
    "print('AUC: %.3f' % logreg_test_auc)\n",
    "# calculate roc curve\n",
    "logreg_test_fpr, logreg_test_tpr, cart_train_thresholds = roc_curve(Y_test, lr_test_pred)\n",
    "plt.plot([0, 1], [0, 1], linestyle='--')\n",
    "# plot the roc curve for the model\n",
    "plt.plot(logreg_test_fpr, logreg_test_tpr)"
   ]
  },
  {
   "cell_type": "markdown",
   "metadata": {},
   "source": [
    "#### Applying SMOTE on logistic regression model"
   ]
  },
  {
   "cell_type": "code",
   "execution_count": 91,
   "metadata": {},
   "outputs": [
    {
     "data": {
      "text/plain": [
       "LogisticRegression()"
      ]
     },
     "execution_count": 91,
     "metadata": {},
     "output_type": "execute_result"
    }
   ],
   "source": [
    "lrsmote = LogisticRegression()\n",
    "lrsmote.fit(X_train_sm, Y_train_sm)"
   ]
  },
  {
   "cell_type": "code",
   "execution_count": 92,
   "metadata": {},
   "outputs": [],
   "source": [
    "lr_train_pred_smote = lrsmote.predict(X_train)\n",
    "lr_test_pred_smote = lrsmote.predict(X_test)"
   ]
  },
  {
   "cell_type": "code",
   "execution_count": 93,
   "metadata": {},
   "outputs": [
    {
     "name": "stdout",
     "output_type": "stream",
     "text": [
      "Train F1 score of logistic regression 0.8597733711048159\n",
      "Test F1 score of logistic regression 0.8679867986798679\n"
     ]
    }
   ],
   "source": [
    "print('Train F1 score of logistic regression', f1_score(Y_train, lr_train_pred_smote))\n",
    "print('Test F1 score of logistic regression', f1_score(Y_test, lr_test_pred_smote))"
   ]
  },
  {
   "cell_type": "code",
   "execution_count": 94,
   "metadata": {},
   "outputs": [
    {
     "name": "stdout",
     "output_type": "stream",
     "text": [
      "Train accuracy score of logistic regression 0.8144329896907216\n",
      "Test accuracy score of logistic regression 0.8253275109170306\n"
     ]
    }
   ],
   "source": [
    "print('Train accuracy score of logistic regression', accuracy_score(Y_train, lr_train_pred_smote))\n",
    "print('Test accuracy score of logistic regression', accuracy_score(Y_test, lr_test_pred_smote))"
   ]
  },
  {
   "cell_type": "code",
   "execution_count": 95,
   "metadata": {},
   "outputs": [
    {
     "name": "stdout",
     "output_type": "stream",
     "text": [
      "[[115  24]\n",
      " [ 56 263]]\n"
     ]
    }
   ],
   "source": [
    "print(confusion_matrix(Y_test, lr_test_pred_smote))"
   ]
  },
  {
   "cell_type": "code",
   "execution_count": 96,
   "metadata": {},
   "outputs": [
    {
     "name": "stdout",
     "output_type": "stream",
     "text": [
      "              precision    recall  f1-score   support\n",
      "\n",
      "           0       0.67      0.83      0.74       139\n",
      "           1       0.92      0.82      0.87       319\n",
      "\n",
      "    accuracy                           0.83       458\n",
      "   macro avg       0.79      0.83      0.80       458\n",
      "weighted avg       0.84      0.83      0.83       458\n",
      "\n"
     ]
    }
   ],
   "source": [
    "print(classification_report(Y_test, lr_test_pred_smote))"
   ]
  },
  {
   "cell_type": "code",
   "execution_count": 97,
   "metadata": {},
   "outputs": [
    {
     "name": "stdout",
     "output_type": "stream",
     "text": [
      "AUC: 0.826\n"
     ]
    },
    {
     "data": {
      "text/plain": [
       "[<matplotlib.lines.Line2D at 0x22c69ef14a8>]"
      ]
     },
     "execution_count": 97,
     "metadata": {},
     "output_type": "execute_result"
    },
    {
     "data": {
      "image/png": "[encoded data removed]",
      "text/plain": [
       "<Figure size 432x288 with 1 Axes>"
      ]
     },
     "metadata": {
      "needs_background": "light"
     },
     "output_type": "display_data"
    }
   ],
   "source": [
    "# calculate AUC\n",
    "logregsm_test_auc = roc_auc_score(Y_test, lr_test_pred_smote)\n",
    "print('AUC: %.3f' % logregsm_test_auc)\n",
    "# calculate roc curve\n",
    "logregsm_test_fpr, logregsm_test_tpr, cart_train_thresholds = roc_curve(Y_test, lr_test_pred_smote)\n",
    "plt.plot([0, 1], [0, 1], linestyle='--')\n",
    "# plot the roc curve for the model\n",
    "plt.plot(logregsm_test_fpr, logregsm_test_tpr)"
   ]
  },
  {
   "cell_type": "markdown",
   "metadata": {},
   "source": [
    "#### Applying LDA model"
   ]
  },
  {
   "cell_type": "code",
   "execution_count": 98,
   "metadata": {},
   "outputs": [],
   "source": [
    "from sklearn.discriminant_analysis import LinearDiscriminantAnalysis"
   ]
  },
  {
   "cell_type": "code",
   "execution_count": 99,
   "metadata": {},
   "outputs": [
    {
     "data": {
      "text/plain": [
       "LinearDiscriminantAnalysis()"
      ]
     },
     "execution_count": 99,
     "metadata": {},
     "output_type": "execute_result"
    }
   ],
   "source": [
    "lda = LinearDiscriminantAnalysis()\n",
    "lda.fit(X_train, Y_train)"
   ]
  },
  {
   "cell_type": "code",
   "execution_count": 100,
   "metadata": {},
   "outputs": [],
   "source": [
    "lda_train_pred = lda.predict(X_train)\n",
    "lda_test_pred = lda.predict(X_test)"
   ]
  },
  {
   "cell_type": "code",
   "execution_count": 101,
   "metadata": {},
   "outputs": [
    {
     "name": "stdout",
     "output_type": "stream",
     "text": [
      "Train F1 score of LDA 0.8774703557312252\n",
      "Test F1 score of LDA 0.8909370199692781\n"
     ]
    }
   ],
   "source": [
    "print('Train F1 score of LDA', f1_score(Y_train, lda_train_pred))\n",
    "print('Test F1 score of LDA', f1_score(Y_test, lda_test_pred))"
   ]
  },
  {
   "cell_type": "code",
   "execution_count": 102,
   "metadata": {},
   "outputs": [
    {
     "name": "stdout",
     "output_type": "stream",
     "text": [
      "Train accuracy score of LDA 0.8256794751640113\n",
      "Test accuracy score of LDA 0.8449781659388647\n"
     ]
    }
   ],
   "source": [
    "print('Train accuracy score of LDA', accuracy_score(Y_train, lda_train_pred))\n",
    "print('Test accuracy score of LDA', accuracy_score(Y_test, lda_test_pred))"
   ]
  },
  {
   "cell_type": "code",
   "execution_count": 103,
   "metadata": {},
   "outputs": [
    {
     "name": "stdout",
     "output_type": "stream",
     "text": [
      "[[ 97  42]\n",
      " [ 29 290]]\n"
     ]
    }
   ],
   "source": [
    "print(confusion_matrix(Y_test, lda_test_pred))"
   ]
  },
  {
   "cell_type": "code",
   "execution_count": 104,
   "metadata": {},
   "outputs": [
    {
     "name": "stdout",
     "output_type": "stream",
     "text": [
      "              precision    recall  f1-score   support\n",
      "\n",
      "           0       0.77      0.70      0.73       139\n",
      "           1       0.87      0.91      0.89       319\n",
      "\n",
      "    accuracy                           0.84       458\n",
      "   macro avg       0.82      0.80      0.81       458\n",
      "weighted avg       0.84      0.84      0.84       458\n",
      "\n"
     ]
    }
   ],
   "source": [
    "print(classification_report(Y_test, lda_test_pred))"
   ]
  },
  {
   "cell_type": "code",
   "execution_count": 105,
   "metadata": {},
   "outputs": [
    {
     "name": "stdout",
     "output_type": "stream",
     "text": [
      "AUC: 0.803\n"
     ]
    },
    {
     "data": {
      "text/plain": [
       "[<matplotlib.lines.Line2D at 0x22c69ec27b8>]"
      ]
     },
     "execution_count": 105,
     "metadata": {},
     "output_type": "execute_result"
    },
    {
     "data": {
      "image/png": "[encoded data removed]",
      "text/plain": [
       "<Figure size 432x288 with 1 Axes>"
      ]
     },
     "metadata": {
      "needs_background": "light"
     },
     "output_type": "display_data"
    }
   ],
   "source": [
    "# calculate AUC\n",
    "lda_test_auc = roc_auc_score(Y_test, lda_test_pred)\n",
    "print('AUC: %.3f' % lda_test_auc)\n",
    "# calculate roc curve\n",
    "lda_test_fpr, lda_test_tpr, cart_train_thresholds = roc_curve(Y_test, lda_test_pred)\n",
    "plt.plot([0, 1], [0, 1], linestyle='--')\n",
    "# plot the roc curve for the model\n",
    "plt.plot(lda_test_fpr, lda_test_tpr)"
   ]
  },
  {
   "cell_type": "markdown",
   "metadata": {},
   "source": [
    "#### Applying SMOTE on LDA model"
   ]
  },
  {
   "cell_type": "code",
   "execution_count": 106,
   "metadata": {},
   "outputs": [
    {
     "data": {
      "text/plain": [
       "LinearDiscriminantAnalysis()"
      ]
     },
     "execution_count": 106,
     "metadata": {},
     "output_type": "execute_result"
    }
   ],
   "source": [
    "ldasmote = LinearDiscriminantAnalysis()\n",
    "ldasmote.fit(X_train_sm, Y_train_sm)"
   ]
  },
  {
   "cell_type": "code",
   "execution_count": 107,
   "metadata": {},
   "outputs": [],
   "source": [
    "lda_train_pred_smote = ldasmote.predict(X_train)\n",
    "lda_test_pred_smote = ldasmote.predict(X_test)"
   ]
  },
  {
   "cell_type": "code",
   "execution_count": 108,
   "metadata": {},
   "outputs": [
    {
     "name": "stdout",
     "output_type": "stream",
     "text": [
      "Train F1 score of LDA after smote 0.8532763532763532\n",
      "Test F1 score of LDA after smote 0.8646864686468646\n"
     ]
    }
   ],
   "source": [
    "print('Train F1 score of LDA after smote', f1_score(Y_train, lda_train_pred_smote))\n",
    "print('Test F1 score of LDA after smote', f1_score(Y_test, lda_test_pred_smote))"
   ]
  },
  {
   "cell_type": "code",
   "execution_count": 109,
   "metadata": {},
   "outputs": [
    {
     "name": "stdout",
     "output_type": "stream",
     "text": [
      "Train accuracy score of LDA after smote 0.8069353327085286\n",
      "Test accuracy score of LDA after smote 0.8209606986899564\n"
     ]
    }
   ],
   "source": [
    "print('Train accuracy score of LDA after smote', accuracy_score(Y_train, lda_train_pred_smote))\n",
    "print('Test accuracy score of LDA after smote', accuracy_score(Y_test, lda_test_pred_smote))"
   ]
  },
  {
   "cell_type": "code",
   "execution_count": 110,
   "metadata": {},
   "outputs": [
    {
     "name": "stdout",
     "output_type": "stream",
     "text": [
      "[[114  25]\n",
      " [ 57 262]]\n"
     ]
    }
   ],
   "source": [
    "print(confusion_matrix(Y_test, lda_test_pred_smote))"
   ]
  },
  {
   "cell_type": "code",
   "execution_count": 111,
   "metadata": {},
   "outputs": [
    {
     "name": "stdout",
     "output_type": "stream",
     "text": [
      "              precision    recall  f1-score   support\n",
      "\n",
      "           0       0.67      0.82      0.74       139\n",
      "           1       0.91      0.82      0.86       319\n",
      "\n",
      "    accuracy                           0.82       458\n",
      "   macro avg       0.79      0.82      0.80       458\n",
      "weighted avg       0.84      0.82      0.83       458\n",
      "\n"
     ]
    }
   ],
   "source": [
    "print(classification_report(Y_test, lda_test_pred_smote))"
   ]
  },
  {
   "cell_type": "code",
   "execution_count": 112,
   "metadata": {},
   "outputs": [
    {
     "name": "stdout",
     "output_type": "stream",
     "text": [
      "AUC: 0.821\n"
     ]
    },
    {
     "data": {
      "text/plain": [
       "[<matplotlib.lines.Line2D at 0x22c6828bf98>]"
      ]
     },
     "execution_count": 112,
     "metadata": {},
     "output_type": "execute_result"
    },
    {
     "data": {
      "image/png": "[encoded data removed]",
      "text/plain": [
       "<Figure size 432x288 with 1 Axes>"
      ]
     },
     "metadata": {
      "needs_background": "light"
     },
     "output_type": "display_data"
    }
   ],
   "source": [
    "# calculate AUC\n",
    "ldasm_test_auc = roc_auc_score(Y_test, lda_test_pred_smote)\n",
    "print('AUC: %.3f' % ldasm_test_auc)\n",
    "# calculate roc curve\n",
    "ldasm_test_fpr, ldasm_test_tpr, cart_train_thresholds = roc_curve(Y_test, lda_test_pred_smote)\n",
    "plt.plot([0, 1], [0, 1], linestyle='--')\n",
    "# plot the roc curve for the model\n",
    "plt.plot(ldasm_test_fpr, ldasm_test_tpr)"
   ]
  },
  {
   "cell_type": "markdown",
   "metadata": {},
   "source": [
    "#### Applying KNN model"
   ]
  },
  {
   "cell_type": "code",
   "execution_count": 113,
   "metadata": {},
   "outputs": [],
   "source": [
    "from sklearn.neighbors import KNeighborsClassifier"
   ]
  },
  {
   "cell_type": "code",
   "execution_count": 114,
   "metadata": {},
   "outputs": [
    {
     "data": {
      "text/plain": [
       "KNeighborsClassifier()"
      ]
     },
     "execution_count": 114,
     "metadata": {},
     "output_type": "execute_result"
    }
   ],
   "source": [
    "knn = KNeighborsClassifier()\n",
    "knn.fit(X_train, Y_train)"
   ]
  },
  {
   "cell_type": "code",
   "execution_count": 115,
   "metadata": {},
   "outputs": [],
   "source": [
    "knn_train_pred = knn.predict(X_train)\n",
    "knn_test_pred = knn.predict(X_test)"
   ]
  },
  {
   "cell_type": "code",
   "execution_count": 116,
   "metadata": {},
   "outputs": [
    {
     "name": "stdout",
     "output_type": "stream",
     "text": [
      "Train F1 score of KNN model: 0.9023255813953487\n",
      "Test F1 score of KNN model: 0.888888888888889\n"
     ]
    }
   ],
   "source": [
    "print('Train F1 score of KNN model:', f1_score(Y_train, knn_train_pred))\n",
    "print('Test F1 score of KNN model:', f1_score(Y_test, knn_test_pred))"
   ]
  },
  {
   "cell_type": "code",
   "execution_count": 117,
   "metadata": {},
   "outputs": [
    {
     "name": "stdout",
     "output_type": "stream",
     "text": [
      "Train accuracy score of KNN model: 0.8622305529522024\n",
      "Test accuracy score of KNN model: 0.8427947598253275\n"
     ]
    }
   ],
   "source": [
    "print('Train accuracy score of KNN model:', accuracy_score(Y_train, knn_train_pred))\n",
    "print('Test accuracy score of KNN model:', accuracy_score(Y_test, knn_test_pred))"
   ]
  },
  {
   "cell_type": "code",
   "execution_count": 118,
   "metadata": {},
   "outputs": [
    {
     "name": "stdout",
     "output_type": "stream",
     "text": [
      "[[ 98  41]\n",
      " [ 31 288]]\n"
     ]
    }
   ],
   "source": [
    "print(confusion_matrix(Y_test, knn_test_pred))"
   ]
  },
  {
   "cell_type": "code",
   "execution_count": 119,
   "metadata": {},
   "outputs": [
    {
     "name": "stdout",
     "output_type": "stream",
     "text": [
      "              precision    recall  f1-score   support\n",
      "\n",
      "           0       0.76      0.71      0.73       139\n",
      "           1       0.88      0.90      0.89       319\n",
      "\n",
      "    accuracy                           0.84       458\n",
      "   macro avg       0.82      0.80      0.81       458\n",
      "weighted avg       0.84      0.84      0.84       458\n",
      "\n"
     ]
    }
   ],
   "source": [
    "print(classification_report(Y_test, knn_test_pred))"
   ]
  },
  {
   "cell_type": "code",
   "execution_count": 120,
   "metadata": {},
   "outputs": [
    {
     "name": "stdout",
     "output_type": "stream",
     "text": [
      "AUC: 0.804\n"
     ]
    },
    {
     "data": {
      "text/plain": [
       "[<matplotlib.lines.Line2D at 0x22c630ffc50>]"
      ]
     },
     "execution_count": 120,
     "metadata": {},
     "output_type": "execute_result"
    },
    {
     "data": {
      "image/png": "[encoded data removed]",
      "text/plain": [
       "<Figure size 432x288 with 1 Axes>"
      ]
     },
     "metadata": {
      "needs_background": "light"
     },
     "output_type": "display_data"
    }
   ],
   "source": [
    "# calculate AUC\n",
    "knn_test_auc = roc_auc_score(Y_test, knn_test_pred)\n",
    "print('AUC: %.3f' % knn_test_auc)\n",
    "# calculate roc curve\n",
    "knn_test_fpr, knn_test_tpr, cart_train_thresholds = roc_curve(Y_test, knn_test_pred)\n",
    "plt.plot([0, 1], [0, 1], linestyle='--')\n",
    "# plot the roc curve for the model\n",
    "plt.plot(knn_test_fpr, knn_test_tpr)"
   ]
  },
  {
   "cell_type": "markdown",
   "metadata": {},
   "source": [
    "#### Applying SMOTE on KNN model"
   ]
  },
  {
   "cell_type": "code",
   "execution_count": 121,
   "metadata": {},
   "outputs": [
    {
     "data": {
      "text/plain": [
       "LinearDiscriminantAnalysis()"
      ]
     },
     "execution_count": 121,
     "metadata": {},
     "output_type": "execute_result"
    }
   ],
   "source": [
    "knnsmote = LinearDiscriminantAnalysis()\n",
    "knnsmote.fit(X_train_sm, Y_train_sm)"
   ]
  },
  {
   "cell_type": "code",
   "execution_count": 122,
   "metadata": {},
   "outputs": [],
   "source": [
    "knn_train_pred_smote = knn.predict(X_train)\n",
    "knn_test_pred_smote = knn.predict(X_test)"
   ]
  },
  {
   "cell_type": "code",
   "execution_count": 123,
   "metadata": {},
   "outputs": [
    {
     "name": "stdout",
     "output_type": "stream",
     "text": [
      "Train F1 score of KNN model: 0.9023255813953487\n",
      "Test F1 score of KNN model: 0.888888888888889\n"
     ]
    }
   ],
   "source": [
    "print('Train F1 score of KNN model:', f1_score(Y_train, knn_train_pred_smote))\n",
    "print('Test F1 score of KNN model:', f1_score(Y_test, knn_test_pred_smote))"
   ]
  },
  {
   "cell_type": "code",
   "execution_count": 124,
   "metadata": {},
   "outputs": [
    {
     "name": "stdout",
     "output_type": "stream",
     "text": [
      "Train accuracy score of KNN model: 0.8622305529522024\n",
      "Test accuracy score of KNN model: 0.8427947598253275\n"
     ]
    }
   ],
   "source": [
    "print('Train accuracy score of KNN model:', accuracy_score(Y_train, knn_train_pred_smote))\n",
    "print('Test accuracy score of KNN model:', accuracy_score(Y_test, knn_test_pred_smote))"
   ]
  },
  {
   "cell_type": "code",
   "execution_count": 125,
   "metadata": {},
   "outputs": [
    {
     "name": "stdout",
     "output_type": "stream",
     "text": [
      "[[ 98  41]\n",
      " [ 31 288]]\n"
     ]
    }
   ],
   "source": [
    "print(confusion_matrix(Y_test, knn_test_pred_smote))"
   ]
  },
  {
   "cell_type": "code",
   "execution_count": 126,
   "metadata": {},
   "outputs": [
    {
     "name": "stdout",
     "output_type": "stream",
     "text": [
      "              precision    recall  f1-score   support\n",
      "\n",
      "           0       0.76      0.71      0.73       139\n",
      "           1       0.88      0.90      0.89       319\n",
      "\n",
      "    accuracy                           0.84       458\n",
      "   macro avg       0.82      0.80      0.81       458\n",
      "weighted avg       0.84      0.84      0.84       458\n",
      "\n"
     ]
    }
   ],
   "source": [
    "print(classification_report(Y_test, knn_test_pred_smote))"
   ]
  },
  {
   "cell_type": "code",
   "execution_count": 127,
   "metadata": {},
   "outputs": [
    {
     "name": "stdout",
     "output_type": "stream",
     "text": [
      "AUC: 0.804\n"
     ]
    },
    {
     "data": {
      "text/plain": [
       "[<matplotlib.lines.Line2D at 0x22c69169278>]"
      ]
     },
     "execution_count": 127,
     "metadata": {},
     "output_type": "execute_result"
    },
    {
     "data": {
      "image/png": "[encoded data removed]",
      "text/plain": [
       "<Figure size 432x288 with 1 Axes>"
      ]
     },
     "metadata": {
      "needs_background": "light"
     },
     "output_type": "display_data"
    }
   ],
   "source": [
    "# calculate AUC\n",
    "knnsm_test_auc = roc_auc_score(Y_test, knn_test_pred_smote)\n",
    "print('AUC: %.3f' % knnsm_test_auc)\n",
    "# calculate roc curve\n",
    "knnsm_test_fpr, knnsm_test_tpr, cart_train_thresholds = roc_curve(Y_test, knn_test_pred_smote)\n",
    "plt.plot([0, 1], [0, 1], linestyle='--')\n",
    "# plot the roc curve for the model\n",
    "plt.plot(knnsm_test_fpr, knnsm_test_tpr)"
   ]
  },
  {
   "cell_type": "markdown",
   "metadata": {},
   "source": [
    "### Applying naive bayes model"
   ]
  },
  {
   "cell_type": "code",
   "execution_count": 128,
   "metadata": {},
   "outputs": [],
   "source": [
    "from sklearn.naive_bayes import GaussianNB, MultinomialNB, BernoulliNB"
   ]
  },
  {
   "cell_type": "markdown",
   "metadata": {},
   "source": [
    "### Applying gaussian naive bayes model"
   ]
  },
  {
   "cell_type": "code",
   "execution_count": 129,
   "metadata": {},
   "outputs": [
    {
     "data": {
      "text/plain": [
       "GaussianNB()"
      ]
     },
     "execution_count": 129,
     "metadata": {},
     "output_type": "execute_result"
    }
   ],
   "source": [
    "gnb = GaussianNB()\n",
    "gnb.fit(X_train, Y_train)"
   ]
  },
  {
   "cell_type": "code",
   "execution_count": 130,
   "metadata": {},
   "outputs": [],
   "source": [
    "gnb_train_pred = gnb.predict(X_train)\n",
    "gnb_test_pred = gnb.predict(X_test)"
   ]
  },
  {
   "cell_type": "code",
   "execution_count": 131,
   "metadata": {},
   "outputs": [
    {
     "name": "stdout",
     "output_type": "stream",
     "text": [
      "Train accuracy score of gaussian naive bayes: 0.8219306466729147\n",
      "Test accuracy score of gaussian naive bayes: 0.8471615720524017\n"
     ]
    }
   ],
   "source": [
    "print('Train accuracy score of gaussian naive bayes:', gnb.score(X_train, Y_train))\n",
    "print('Test accuracy score of gaussian naive bayes:', gnb.score(X_test, Y_test))"
   ]
  },
  {
   "cell_type": "code",
   "execution_count": 132,
   "metadata": {},
   "outputs": [
    {
     "name": "stdout",
     "output_type": "stream",
     "text": [
      "[[101  38]\n",
      " [ 32 287]]\n"
     ]
    }
   ],
   "source": [
    "print(confusion_matrix(Y_test, gnb_test_pred))"
   ]
  },
  {
   "cell_type": "code",
   "execution_count": 133,
   "metadata": {},
   "outputs": [
    {
     "name": "stdout",
     "output_type": "stream",
     "text": [
      "              precision    recall  f1-score   support\n",
      "\n",
      "           0       0.76      0.73      0.74       139\n",
      "           1       0.88      0.90      0.89       319\n",
      "\n",
      "    accuracy                           0.85       458\n",
      "   macro avg       0.82      0.81      0.82       458\n",
      "weighted avg       0.85      0.85      0.85       458\n",
      "\n"
     ]
    }
   ],
   "source": [
    "print(classification_report(Y_test, gnb_test_pred))"
   ]
  },
  {
   "cell_type": "code",
   "execution_count": 134,
   "metadata": {},
   "outputs": [
    {
     "name": "stdout",
     "output_type": "stream",
     "text": [
      "AUC: 0.813\n"
     ]
    },
    {
     "data": {
      "text/plain": [
       "[<matplotlib.lines.Line2D at 0x22c69dbf4e0>]"
      ]
     },
     "execution_count": 134,
     "metadata": {},
     "output_type": "execute_result"
    },
    {
     "data": {
      "image/png": "[encoded data removed]",
      "text/plain": [
       "<Figure size 432x288 with 1 Axes>"
      ]
     },
     "metadata": {
      "needs_background": "light"
     },
     "output_type": "display_data"
    }
   ],
   "source": [
    "# calculate AUC\n",
    "gnb_test_auc = roc_auc_score(Y_test, gnb_test_pred)\n",
    "print('AUC: %.3f' % gnb_test_auc)\n",
    "# calculate roc curve\n",
    "gnb_test_fpr, gnb_test_tpr, cart_train_thresholds = roc_curve(Y_test, gnb_test_pred)\n",
    "plt.plot([0, 1], [0, 1], linestyle='--')\n",
    "# plot the roc curve for the model\n",
    "plt.plot(gnb_test_fpr, gnb_test_tpr)"
   ]
  },
  {
   "cell_type": "markdown",
   "metadata": {},
   "source": [
    "### Applying gaussian naive bayes model on SMOTE data"
   ]
  },
  {
   "cell_type": "code",
   "execution_count": 135,
   "metadata": {},
   "outputs": [
    {
     "data": {
      "text/plain": [
       "GaussianNB()"
      ]
     },
     "execution_count": 135,
     "metadata": {},
     "output_type": "execute_result"
    }
   ],
   "source": [
    "gnbsmote = GaussianNB()\n",
    "gnbsmote.fit(X_train_sm, Y_train_sm)"
   ]
  },
  {
   "cell_type": "code",
   "execution_count": 136,
   "metadata": {},
   "outputs": [],
   "source": [
    "gnb_train_pred_smote = gnb.predict(X_train)\n",
    "gnb_test_pred_smote = gnb.predict(X_test)"
   ]
  },
  {
   "cell_type": "code",
   "execution_count": 137,
   "metadata": {},
   "outputs": [
    {
     "name": "stdout",
     "output_type": "stream",
     "text": [
      "Train accuracy score of gaussian naive bayes: 0.8059981255857545\n",
      "Test accuracy score of gaussian naive bayes: 0.8253275109170306\n"
     ]
    }
   ],
   "source": [
    "print('Train accuracy score of gaussian naive bayes:', gnbsmote.score(X_train, Y_train))\n",
    "print('Test accuracy score of gaussian naive bayes:', gnbsmote.score(X_test, Y_test))"
   ]
  },
  {
   "cell_type": "code",
   "execution_count": 138,
   "metadata": {},
   "outputs": [
    {
     "name": "stdout",
     "output_type": "stream",
     "text": [
      "[[101  38]\n",
      " [ 32 287]]\n"
     ]
    }
   ],
   "source": [
    "print(confusion_matrix(Y_test, gnb_test_pred_smote))"
   ]
  },
  {
   "cell_type": "code",
   "execution_count": 139,
   "metadata": {},
   "outputs": [
    {
     "name": "stdout",
     "output_type": "stream",
     "text": [
      "              precision    recall  f1-score   support\n",
      "\n",
      "           0       0.76      0.73      0.74       139\n",
      "           1       0.88      0.90      0.89       319\n",
      "\n",
      "    accuracy                           0.85       458\n",
      "   macro avg       0.82      0.81      0.82       458\n",
      "weighted avg       0.85      0.85      0.85       458\n",
      "\n"
     ]
    }
   ],
   "source": [
    "print(classification_report(Y_test, gnb_test_pred_smote))"
   ]
  },
  {
   "cell_type": "code",
   "execution_count": 140,
   "metadata": {},
   "outputs": [
    {
     "name": "stdout",
     "output_type": "stream",
     "text": [
      "AUC: 0.813\n"
     ]
    },
    {
     "data": {
      "text/plain": [
       "[<matplotlib.lines.Line2D at 0x22c6a166ac8>]"
      ]
     },
     "execution_count": 140,
     "metadata": {},
     "output_type": "execute_result"
    },
    {
     "data": {
      "image/png": "[encoded data removed]",
      "text/plain": [
       "<Figure size 432x288 with 1 Axes>"
      ]
     },
     "metadata": {
      "needs_background": "light"
     },
     "output_type": "display_data"
    }
   ],
   "source": [
    "# calculate AUC\n",
    "gnbsm_test_auc = roc_auc_score(Y_test, gnb_test_pred_smote)\n",
    "print('AUC: %.3f' % gnbsm_test_auc)\n",
    "# calculate roc curve\n",
    "gnbsm_test_fpr, gnbsm_test_tpr, cart_train_thresholds = roc_curve(Y_test, gnb_test_pred_smote)\n",
    "plt.plot([0, 1], [0, 1], linestyle='--')\n",
    "# plot the roc curve for the model\n",
    "plt.plot(gnbsm_test_fpr, gnbsm_test_tpr)"
   ]
  },
  {
   "cell_type": "markdown",
   "metadata": {},
   "source": [
    "### Applying bernouli naive bayes model"
   ]
  },
  {
   "cell_type": "code",
   "execution_count": 141,
   "metadata": {},
   "outputs": [
    {
     "data": {
      "text/plain": [
       "BernoulliNB()"
      ]
     },
     "execution_count": 141,
     "metadata": {},
     "output_type": "execute_result"
    }
   ],
   "source": [
    "bnb = BernoulliNB()\n",
    "bnb.fit(X_train, Y_train)"
   ]
  },
  {
   "cell_type": "code",
   "execution_count": 142,
   "metadata": {},
   "outputs": [],
   "source": [
    "bnb_train_pred = bnb.predict(X_train)\n",
    "bnb_test_pred = bnb.predict(X_test)"
   ]
  },
  {
   "cell_type": "code",
   "execution_count": 143,
   "metadata": {},
   "outputs": [
    {
     "name": "stdout",
     "output_type": "stream",
     "text": [
      "Train accuracy score of bernouli naive bayes: 0.823805060918463\n",
      "Test accuracy score of bernouli naive bayes: 0.8406113537117904\n"
     ]
    }
   ],
   "source": [
    "print('Train accuracy score of bernouli naive bayes:', bnb.score(X_train, Y_train))\n",
    "print('Test accuracy score of bernouli naive bayes:', bnb.score(X_test, Y_test))"
   ]
  },
  {
   "cell_type": "code",
   "execution_count": 144,
   "metadata": {},
   "outputs": [
    {
     "name": "stdout",
     "output_type": "stream",
     "text": [
      "[[102  37]\n",
      " [ 36 283]]\n"
     ]
    }
   ],
   "source": [
    "print(confusion_matrix(Y_test, bnb_test_pred))"
   ]
  },
  {
   "cell_type": "code",
   "execution_count": 145,
   "metadata": {},
   "outputs": [
    {
     "name": "stdout",
     "output_type": "stream",
     "text": [
      "              precision    recall  f1-score   support\n",
      "\n",
      "           0       0.74      0.73      0.74       139\n",
      "           1       0.88      0.89      0.89       319\n",
      "\n",
      "    accuracy                           0.84       458\n",
      "   macro avg       0.81      0.81      0.81       458\n",
      "weighted avg       0.84      0.84      0.84       458\n",
      "\n"
     ]
    }
   ],
   "source": [
    "print(classification_report(Y_test, bnb_test_pred))"
   ]
  },
  {
   "cell_type": "code",
   "execution_count": 146,
   "metadata": {},
   "outputs": [
    {
     "name": "stdout",
     "output_type": "stream",
     "text": [
      "AUC: 0.810\n"
     ]
    },
    {
     "data": {
      "text/plain": [
       "[<matplotlib.lines.Line2D at 0x22c6a15eb38>]"
      ]
     },
     "execution_count": 146,
     "metadata": {},
     "output_type": "execute_result"
    },
    {
     "data": {
      "image/png": "[encoded data removed]",
      "text/plain": [
       "<Figure size 432x288 with 1 Axes>"
      ]
     },
     "metadata": {
      "needs_background": "light"
     },
     "output_type": "display_data"
    }
   ],
   "source": [
    "# calculate AUC\n",
    "bnb_test_auc = roc_auc_score(Y_test, bnb_test_pred)\n",
    "print('AUC: %.3f' % bnb_test_auc)\n",
    "# calculate roc curve\n",
    "bnb_test_fpr, bnb_test_tpr, cart_train_thresholds = roc_curve(Y_test, bnb_test_pred)\n",
    "plt.plot([0, 1], [0, 1], linestyle='--')\n",
    "# plot the roc curve for the model\n",
    "plt.plot(bnb_test_fpr, bnb_test_tpr)"
   ]
  },
  {
   "cell_type": "markdown",
   "metadata": {},
   "source": [
    "### Applying bernouli naive bayes model on SMOTE data"
   ]
  },
  {
   "cell_type": "code",
   "execution_count": 147,
   "metadata": {},
   "outputs": [
    {
     "data": {
      "text/plain": [
       "BernoulliNB()"
      ]
     },
     "execution_count": 147,
     "metadata": {},
     "output_type": "execute_result"
    }
   ],
   "source": [
    "bnbsmote = BernoulliNB()\n",
    "bnbsmote.fit(X_train_sm, Y_train_sm)"
   ]
  },
  {
   "cell_type": "code",
   "execution_count": 148,
   "metadata": {},
   "outputs": [],
   "source": [
    "bnb_train_pred_smote = bnbsmote.predict(X_train)\n",
    "bnb_test_pred_smote = bnbsmote.predict(X_test)"
   ]
  },
  {
   "cell_type": "code",
   "execution_count": 149,
   "metadata": {},
   "outputs": [
    {
     "name": "stdout",
     "output_type": "stream",
     "text": [
      "Train accuracy score of bernouli naive bayes: 0.823805060918463\n",
      "Test accuracy score of bernouli naive bayes: 0.8406113537117904\n"
     ]
    }
   ],
   "source": [
    "print('Train accuracy score of bernouli naive bayes:', bnb.score(X_train, Y_train))\n",
    "print('Test accuracy score of bernouli naive bayes:', bnb.score(X_test, Y_test))"
   ]
  },
  {
   "cell_type": "code",
   "execution_count": 150,
   "metadata": {},
   "outputs": [
    {
     "name": "stdout",
     "output_type": "stream",
     "text": [
      "[[115  24]\n",
      " [ 61 258]]\n"
     ]
    }
   ],
   "source": [
    "print(confusion_matrix(Y_test, bnb_test_pred_smote))"
   ]
  },
  {
   "cell_type": "code",
   "execution_count": 151,
   "metadata": {},
   "outputs": [
    {
     "name": "stdout",
     "output_type": "stream",
     "text": [
      "              precision    recall  f1-score   support\n",
      "\n",
      "           0       0.65      0.83      0.73       139\n",
      "           1       0.91      0.81      0.86       319\n",
      "\n",
      "    accuracy                           0.81       458\n",
      "   macro avg       0.78      0.82      0.79       458\n",
      "weighted avg       0.84      0.81      0.82       458\n",
      "\n"
     ]
    }
   ],
   "source": [
    "print(classification_report(Y_test, bnb_test_pred_smote))"
   ]
  },
  {
   "cell_type": "code",
   "execution_count": 152,
   "metadata": {},
   "outputs": [
    {
     "name": "stdout",
     "output_type": "stream",
     "text": [
      "AUC: 0.818\n"
     ]
    },
    {
     "data": {
      "text/plain": [
       "[<matplotlib.lines.Line2D at 0x22c69c995f8>]"
      ]
     },
     "execution_count": 152,
     "metadata": {},
     "output_type": "execute_result"
    },
    {
     "data": {
      "image/png": "[encoded data removed]",
      "text/plain": [
       "<Figure size 432x288 with 1 Axes>"
      ]
     },
     "metadata": {
      "needs_background": "light"
     },
     "output_type": "display_data"
    }
   ],
   "source": [
    "# calculate AUC\n",
    "bnbsm_test_auc = roc_auc_score(Y_test, bnb_test_pred_smote)\n",
    "print('AUC: %.3f' % bnbsm_test_auc)\n",
    "# calculate roc curve\n",
    "bnbsm_test_fpr, bnbsm_test_tpr, cart_train_thresholds = roc_curve(Y_test, bnb_test_pred_smote)\n",
    "plt.plot([0, 1], [0, 1], linestyle='--')\n",
    "# plot the roc curve for the model\n",
    "plt.plot(bnbsm_test_fpr, bnbsm_test_tpr)"
   ]
  },
  {
   "cell_type": "markdown",
   "metadata": {},
   "source": [
    "#### Applying bagging classifier using decision tree"
   ]
  },
  {
   "cell_type": "code",
   "execution_count": 153,
   "metadata": {},
   "outputs": [],
   "source": [
    "from sklearn.ensemble import BaggingClassifier\n",
    "from sklearn.tree import DecisionTreeClassifier"
   ]
  },
  {
   "cell_type": "code",
   "execution_count": 154,
   "metadata": {},
   "outputs": [],
   "source": [
    "be = DecisionTreeClassifier()"
   ]
  },
  {
   "cell_type": "code",
   "execution_count": 155,
   "metadata": {},
   "outputs": [
    {
     "data": {
      "text/plain": [
       "BaggingClassifier(base_estimator=DecisionTreeClassifier(), n_estimators=100,\n",
       "                  random_state=1)"
      ]
     },
     "execution_count": 155,
     "metadata": {},
     "output_type": "execute_result"
    }
   ],
   "source": [
    "bag = BaggingClassifier(base_estimator=be, n_estimators=100, random_state=1)\n",
    "bag.fit(X_train, Y_train)"
   ]
  },
  {
   "cell_type": "code",
   "execution_count": 156,
   "metadata": {},
   "outputs": [],
   "source": [
    "bag_train_pred = bag.predict(X_train)\n",
    "bag_test_pred = bag.predict(X_test)"
   ]
  },
  {
   "cell_type": "code",
   "execution_count": 157,
   "metadata": {},
   "outputs": [
    {
     "name": "stdout",
     "output_type": "stream",
     "text": [
      "Train F1 score using bagging classifier:  0.9993284083277367\n",
      "Test F1 score using bagging classifier:  0.8759571209800918\n"
     ]
    }
   ],
   "source": [
    "print('Train F1 score using bagging classifier: ', f1_score(Y_train, bag_train_pred))\n",
    "print('Test F1 score using bagging classifier: ', f1_score(Y_test, bag_test_pred))"
   ]
  },
  {
   "cell_type": "code",
   "execution_count": 158,
   "metadata": {},
   "outputs": [
    {
     "name": "stdout",
     "output_type": "stream",
     "text": [
      "Train accuracy score using bagging classifier:  0.9990627928772259\n",
      "Test accuracy score using bagging classifier:  0.8231441048034934\n"
     ]
    }
   ],
   "source": [
    "print('Train accuracy score using bagging classifier: ', accuracy_score(Y_train, bag_train_pred))\n",
    "print('Test accuracy score using bagging classifier: ', accuracy_score(Y_test, bag_test_pred))"
   ]
  },
  {
   "cell_type": "code",
   "execution_count": 159,
   "metadata": {},
   "outputs": [
    {
     "name": "stdout",
     "output_type": "stream",
     "text": [
      "[[ 91  48]\n",
      " [ 33 286]]\n"
     ]
    }
   ],
   "source": [
    "print(confusion_matrix(Y_test, bag_test_pred))"
   ]
  },
  {
   "cell_type": "code",
   "execution_count": 160,
   "metadata": {},
   "outputs": [
    {
     "name": "stdout",
     "output_type": "stream",
     "text": [
      "              precision    recall  f1-score   support\n",
      "\n",
      "           0       0.73      0.65      0.69       139\n",
      "           1       0.86      0.90      0.88       319\n",
      "\n",
      "    accuracy                           0.82       458\n",
      "   macro avg       0.80      0.78      0.78       458\n",
      "weighted avg       0.82      0.82      0.82       458\n",
      "\n"
     ]
    }
   ],
   "source": [
    "print(classification_report(Y_test, bag_test_pred))"
   ]
  },
  {
   "cell_type": "code",
   "execution_count": 161,
   "metadata": {},
   "outputs": [
    {
     "name": "stdout",
     "output_type": "stream",
     "text": [
      "AUC: 0.776\n"
     ]
    },
    {
     "data": {
      "text/plain": [
       "[<matplotlib.lines.Line2D at 0x22c6a07ed30>]"
      ]
     },
     "execution_count": 161,
     "metadata": {},
     "output_type": "execute_result"
    },
    {
     "data": {
      "image/png": "[encoded data removed]",
      "text/plain": [
       "<Figure size 432x288 with 1 Axes>"
      ]
     },
     "metadata": {
      "needs_background": "light"
     },
     "output_type": "display_data"
    }
   ],
   "source": [
    "# calculate AUC\n",
    "bag_test_auc = roc_auc_score(Y_test, bag_test_pred)\n",
    "print('AUC: %.3f' % bag_test_auc)\n",
    "# calculate roc curve\n",
    "bag_test_fpr, bag_test_tpr, cart_train_thresholds = roc_curve(Y_test, bag_test_pred)\n",
    "plt.plot([0, 1], [0, 1], linestyle='--')\n",
    "# plot the roc curve for the model\n",
    "plt.plot(bag_test_fpr, bag_test_tpr)"
   ]
  },
  {
   "cell_type": "markdown",
   "metadata": {},
   "source": [
    "#### Model tuning using gridsearch CV"
   ]
  },
  {
   "cell_type": "code",
   "execution_count": 162,
   "metadata": {},
   "outputs": [],
   "source": [
    "from sklearn.model_selection import GridSearchCV\n",
    "from sklearn.ensemble import RandomForestClassifier"
   ]
  },
  {
   "cell_type": "code",
   "execution_count": 163,
   "metadata": {},
   "outputs": [],
   "source": [
    "param_grid = {\n",
    "    'max_depth': [10,13,17],\n",
    "    'max_features': [6,8,10],\n",
    "    'min_samples_leaf': [50,70,90],\n",
    "    'min_samples_split': [150, 200,250],\n",
    "    'n_estimators': [200,300,500]\n",
    "}"
   ]
  },
  {
   "cell_type": "code",
   "execution_count": 164,
   "metadata": {},
   "outputs": [],
   "source": [
    "rfcl = RandomForestClassifier(random_state=1)"
   ]
  },
  {
   "cell_type": "code",
   "execution_count": 165,
   "metadata": {},
   "outputs": [],
   "source": [
    "grid_search = GridSearchCV(estimator = rfcl, param_grid = param_grid, cv = 3,n_jobs=-1)"
   ]
  },
  {
   "cell_type": "code",
   "execution_count": 166,
   "metadata": {},
   "outputs": [
    {
     "name": "stderr",
     "output_type": "stream",
     "text": [
      "C:\\ProgramData\\Anaconda3\\lib\\site-packages\\sklearn\\model_selection\\_search.py:925: UserWarning: One or more of the test scores are non-finite: [0.79008018 0.78914385 0.79383341 0.78634278 0.78914121 0.79196075\n",
      " 0.78352324 0.78352324 0.78352324 0.79008018 0.79008018 0.79664768\n",
      " 0.78914121 0.79101915 0.79101915 0.78352324 0.78352324 0.78445957\n",
      " 0.79384133 0.79477765 0.79946194 0.78914121 0.78914121 0.78914121\n",
      " 0.78352324 0.78352324 0.78445957 0.79383605 0.79195812 0.79383605\n",
      " 0.75629319 0.75629319 0.75629319 0.74786622 0.74786622 0.74880255\n",
      " 0.79195812 0.79383605 0.79195812 0.75629319 0.75629319 0.75629319\n",
      " 0.74786622 0.74786622 0.74880255 0.79194493 0.79288653 0.78539062\n",
      " 0.76378383 0.76191117 0.76191117 0.74786622 0.74786622 0.74880255\n",
      "        nan        nan        nan        nan        nan        nan\n",
      "        nan        nan        nan        nan        nan        nan\n",
      "        nan        nan        nan        nan        nan        nan\n",
      "        nan        nan        nan        nan        nan        nan\n",
      "        nan        nan        nan 0.79008018 0.78914385 0.79383341\n",
      " 0.78634278 0.78914121 0.79196075 0.78352324 0.78352324 0.78352324\n",
      " 0.79008018 0.79008018 0.79664768 0.78914121 0.79101915 0.79101915\n",
      " 0.78352324 0.78352324 0.78445957 0.79384133 0.79477765 0.79946194\n",
      " 0.78914121 0.78914121 0.78914121 0.78352324 0.78352324 0.78445957\n",
      " 0.79383605 0.79195812 0.79383605 0.75629319 0.75629319 0.75629319\n",
      " 0.74786622 0.74786622 0.74880255 0.79195812 0.79383605 0.79195812\n",
      " 0.75629319 0.75629319 0.75629319 0.74786622 0.74786622 0.74880255\n",
      " 0.79194493 0.79288653 0.78539062 0.76378383 0.76191117 0.76191117\n",
      " 0.74786622 0.74786622 0.74880255        nan        nan        nan\n",
      "        nan        nan        nan        nan        nan        nan\n",
      "        nan        nan        nan        nan        nan        nan\n",
      "        nan        nan        nan        nan        nan        nan\n",
      "        nan        nan        nan        nan        nan        nan\n",
      " 0.79008018 0.78914385 0.79383341 0.78634278 0.78914121 0.79196075\n",
      " 0.78352324 0.78352324 0.78352324 0.79008018 0.79008018 0.79664768\n",
      " 0.78914121 0.79101915 0.79101915 0.78352324 0.78352324 0.78445957\n",
      " 0.79384133 0.79477765 0.79946194 0.78914121 0.78914121 0.78914121\n",
      " 0.78352324 0.78352324 0.78445957 0.79383605 0.79195812 0.79383605\n",
      " 0.75629319 0.75629319 0.75629319 0.74786622 0.74786622 0.74880255\n",
      " 0.79195812 0.79383605 0.79195812 0.75629319 0.75629319 0.75629319\n",
      " 0.74786622 0.74786622 0.74880255 0.79194493 0.79288653 0.78539062\n",
      " 0.76378383 0.76191117 0.76191117 0.74786622 0.74786622 0.74880255\n",
      "        nan        nan        nan        nan        nan        nan\n",
      "        nan        nan        nan        nan        nan        nan\n",
      "        nan        nan        nan        nan        nan        nan\n",
      "        nan        nan        nan        nan        nan        nan\n",
      "        nan        nan        nan]\n",
      "  category=UserWarning\n"
     ]
    },
    {
     "data": {
      "text/plain": [
       "GridSearchCV(cv=3, estimator=RandomForestClassifier(random_state=1), n_jobs=-1,\n",
       "             param_grid={'max_depth': [10, 13, 17], 'max_features': [6, 8, 10],\n",
       "                         'min_samples_leaf': [50, 70, 90],\n",
       "                         'min_samples_split': [150, 200, 250],\n",
       "                         'n_estimators': [200, 300, 500]})"
      ]
     },
     "execution_count": 166,
     "metadata": {},
     "output_type": "execute_result"
    }
   ],
   "source": [
    "grid_search.fit(X_train, Y_train)"
   ]
  },
  {
   "cell_type": "code",
   "execution_count": 167,
   "metadata": {},
   "outputs": [
    {
     "data": {
      "text/plain": [
       "{'max_depth': 10,\n",
       " 'max_features': 6,\n",
       " 'min_samples_leaf': 90,\n",
       " 'min_samples_split': 150,\n",
       " 'n_estimators': 500}"
      ]
     },
     "execution_count": 167,
     "metadata": {},
     "output_type": "execute_result"
    }
   ],
   "source": [
    "grid_search.best_params_"
   ]
  },
  {
   "cell_type": "markdown",
   "metadata": {},
   "source": [
    "### Bagging using hyperparameters"
   ]
  },
  {
   "cell_type": "code",
   "execution_count": 168,
   "metadata": {},
   "outputs": [],
   "source": [
    "behp = DecisionTreeClassifier(max_depth=10, max_features=6, min_samples_leaf=90, min_samples_split=150)"
   ]
  },
  {
   "cell_type": "code",
   "execution_count": 169,
   "metadata": {},
   "outputs": [
    {
     "data": {
      "text/plain": [
       "BaggingClassifier(base_estimator=DecisionTreeClassifier(max_depth=10,\n",
       "                                                        max_features=6,\n",
       "                                                        min_samples_leaf=90,\n",
       "                                                        min_samples_split=150),\n",
       "                  n_estimators=500, random_state=1)"
      ]
     },
     "execution_count": 169,
     "metadata": {},
     "output_type": "execute_result"
    }
   ],
   "source": [
    "baghp = BaggingClassifier(base_estimator=behp, n_estimators=500, random_state=1)\n",
    "baghp.fit(X_train, Y_train)"
   ]
  },
  {
   "cell_type": "code",
   "execution_count": 170,
   "metadata": {},
   "outputs": [],
   "source": [
    "baghp_train_pred = baghp.predict(X_train)\n",
    "baghp_test_pred = baghp.predict(X_test)"
   ]
  },
  {
   "cell_type": "code",
   "execution_count": 171,
   "metadata": {},
   "outputs": [
    {
     "name": "stdout",
     "output_type": "stream",
     "text": [
      "Train F1 score using bagging classifier:  0.870712401055409\n",
      "Test F1 score using bagging classifier:  0.879154078549849\n"
     ]
    }
   ],
   "source": [
    "print('Train F1 score using bagging classifier: ', f1_score(Y_train, baghp_train_pred))\n",
    "print('Test F1 score using bagging classifier: ', f1_score(Y_test, baghp_test_pred))"
   ]
  },
  {
   "cell_type": "code",
   "execution_count": 172,
   "metadata": {},
   "outputs": [
    {
     "name": "stdout",
     "output_type": "stream",
     "text": [
      "Train accuracy score using bagging classifier:  0.8163074039362699\n",
      "Test accuracy score using bagging classifier:  0.8253275109170306\n"
     ]
    }
   ],
   "source": [
    "print('Train accuracy score using bagging classifier: ', accuracy_score(Y_train, baghp_train_pred))\n",
    "print('Test accuracy score using bagging classifier: ', accuracy_score(Y_test, baghp_test_pred))"
   ]
  },
  {
   "cell_type": "code",
   "execution_count": 173,
   "metadata": {},
   "outputs": [
    {
     "name": "stdout",
     "output_type": "stream",
     "text": [
      "[[ 87  52]\n",
      " [ 28 291]]\n"
     ]
    }
   ],
   "source": [
    "print(confusion_matrix(Y_test, baghp_test_pred))"
   ]
  },
  {
   "cell_type": "code",
   "execution_count": 174,
   "metadata": {},
   "outputs": [
    {
     "name": "stdout",
     "output_type": "stream",
     "text": [
      "              precision    recall  f1-score   support\n",
      "\n",
      "           0       0.76      0.63      0.69       139\n",
      "           1       0.85      0.91      0.88       319\n",
      "\n",
      "    accuracy                           0.83       458\n",
      "   macro avg       0.80      0.77      0.78       458\n",
      "weighted avg       0.82      0.83      0.82       458\n",
      "\n"
     ]
    }
   ],
   "source": [
    "print(classification_report(Y_test, baghp_test_pred))"
   ]
  },
  {
   "cell_type": "code",
   "execution_count": 175,
   "metadata": {},
   "outputs": [
    {
     "name": "stdout",
     "output_type": "stream",
     "text": [
      "AUC: 0.769\n"
     ]
    },
    {
     "data": {
      "text/plain": [
       "[<matplotlib.lines.Line2D at 0x22c6b2642b0>]"
      ]
     },
     "execution_count": 175,
     "metadata": {},
     "output_type": "execute_result"
    },
    {
     "data": {
      "image/png": "[encoded data removed]",
      "text/plain": [
       "<Figure size 432x288 with 1 Axes>"
      ]
     },
     "metadata": {
      "needs_background": "light"
     },
     "output_type": "display_data"
    }
   ],
   "source": [
    "# calculate AUC\n",
    "baghp_test_auc = roc_auc_score(Y_test, baghp_test_pred)\n",
    "print('AUC: %.3f' % baghp_test_auc)\n",
    "# calculate roc curve\n",
    "baghp_test_fpr, baghp_test_tpr, cart_train_thresholds = roc_curve(Y_test, baghp_test_pred)\n",
    "plt.plot([0, 1], [0, 1], linestyle='--')\n",
    "# plot the roc curve for the model\n",
    "plt.plot(baghp_test_fpr, baghp_test_tpr)"
   ]
  },
  {
   "cell_type": "markdown",
   "metadata": {},
   "source": [
    "### Random forest using best parameters"
   ]
  },
  {
   "cell_type": "code",
   "execution_count": 176,
   "metadata": {},
   "outputs": [
    {
     "data": {
      "text/plain": [
       "RandomForestClassifier(max_depth=10, max_features=6, min_samples_leaf=90,\n",
       "                       min_samples_split=150, n_estimators=500)"
      ]
     },
     "execution_count": 176,
     "metadata": {},
     "output_type": "execute_result"
    }
   ],
   "source": [
    "rfbp = RandomForestClassifier(max_depth=10, max_features=6, min_samples_leaf=90, min_samples_split=150, n_estimators=500)\n",
    "rfbp.fit(X_train, Y_train)"
   ]
  },
  {
   "cell_type": "code",
   "execution_count": 177,
   "metadata": {},
   "outputs": [],
   "source": [
    "rfbp_train_pred = rfbp.predict(X_train)\n",
    "rfbp_test_pred = rfbp.predict(X_test)"
   ]
  },
  {
   "cell_type": "code",
   "execution_count": 178,
   "metadata": {},
   "outputs": [
    {
     "name": "stdout",
     "output_type": "stream",
     "text": [
      "Train F1 score of logistic regression 0.868505452212957\n",
      "Test F1 score of logistic regression 0.877037037037037\n"
     ]
    }
   ],
   "source": [
    "print('Train F1 score of logistic regression', f1_score(Y_train, rfbp_train_pred))\n",
    "print('Test F1 score of logistic regression', f1_score(Y_test, rfbp_test_pred))"
   ]
  },
  {
   "cell_type": "code",
   "execution_count": 179,
   "metadata": {},
   "outputs": [
    {
     "name": "stdout",
     "output_type": "stream",
     "text": [
      "Train accuracy score of logistic regression 0.8078725398313027\n",
      "Test accuracy score of logistic regression 0.8187772925764192\n"
     ]
    }
   ],
   "source": [
    "print('Train accuracy score of logistic regression', accuracy_score(Y_train, rfbp_train_pred))\n",
    "print('Test accuracy score of logistic regression', accuracy_score(Y_test, rfbp_test_pred))"
   ]
  },
  {
   "cell_type": "code",
   "execution_count": 180,
   "metadata": {},
   "outputs": [
    {
     "name": "stdout",
     "output_type": "stream",
     "text": [
      "[[ 79  60]\n",
      " [ 23 296]]\n"
     ]
    }
   ],
   "source": [
    "print(confusion_matrix(Y_test, rfbp_test_pred))"
   ]
  },
  {
   "cell_type": "code",
   "execution_count": 181,
   "metadata": {},
   "outputs": [
    {
     "name": "stdout",
     "output_type": "stream",
     "text": [
      "              precision    recall  f1-score   support\n",
      "\n",
      "           0       0.77      0.57      0.66       139\n",
      "           1       0.83      0.93      0.88       319\n",
      "\n",
      "    accuracy                           0.82       458\n",
      "   macro avg       0.80      0.75      0.77       458\n",
      "weighted avg       0.81      0.82      0.81       458\n",
      "\n"
     ]
    }
   ],
   "source": [
    "print(classification_report(Y_test, rfbp_test_pred))"
   ]
  },
  {
   "cell_type": "code",
   "execution_count": 182,
   "metadata": {},
   "outputs": [
    {
     "name": "stdout",
     "output_type": "stream",
     "text": [
      "AUC: 0.748\n"
     ]
    },
    {
     "data": {
      "text/plain": [
       "[<matplotlib.lines.Line2D at 0x22c6b460a58>]"
      ]
     },
     "execution_count": 182,
     "metadata": {},
     "output_type": "execute_result"
    },
    {
     "data": {
      "image/png": "[encoded data removed]",
      "text/plain": [
       "<Figure size 432x288 with 1 Axes>"
      ]
     },
     "metadata": {
      "needs_background": "light"
     },
     "output_type": "display_data"
    }
   ],
   "source": [
    "# calculate AUC\n",
    "rfbp_test_auc = roc_auc_score(Y_test, rfbp_test_pred)\n",
    "print('AUC: %.3f' % rfbp_test_auc)\n",
    "# calculate roc curve\n",
    "rfbp_test_fpr, rfbp_test_tpr, cart_train_thresholds = roc_curve(Y_test, rfbp_test_pred)\n",
    "plt.plot([0, 1], [0, 1], linestyle='--')\n",
    "# plot the roc curve for the model\n",
    "plt.plot(rfbp_test_fpr, rfbp_test_tpr)"
   ]
  },
  {
   "cell_type": "markdown",
   "metadata": {},
   "source": [
    "#### Applying adaboost model"
   ]
  },
  {
   "cell_type": "code",
   "execution_count": 183,
   "metadata": {},
   "outputs": [],
   "source": [
    "from sklearn.ensemble import AdaBoostClassifier"
   ]
  },
  {
   "cell_type": "code",
   "execution_count": 184,
   "metadata": {},
   "outputs": [],
   "source": [
    "abe = DecisionTreeClassifier(max_depth=1)"
   ]
  },
  {
   "cell_type": "code",
   "execution_count": 185,
   "metadata": {},
   "outputs": [
    {
     "data": {
      "text/plain": [
       "AdaBoostClassifier(base_estimator=DecisionTreeClassifier(max_depth=1),\n",
       "                   learning_rate=0.1, n_estimators=100, random_state=1)"
      ]
     },
     "execution_count": 185,
     "metadata": {},
     "output_type": "execute_result"
    }
   ],
   "source": [
    "ada = AdaBoostClassifier(base_estimator=abe, n_estimators=100, random_state=1, learning_rate=0.1)\n",
    "ada.fit(X_train, Y_train)"
   ]
  },
  {
   "cell_type": "code",
   "execution_count": 186,
   "metadata": {},
   "outputs": [],
   "source": [
    "ada_train_pred = ada.predict(X_train)\n",
    "ada_test_pred = ada.predict(X_test)"
   ]
  },
  {
   "cell_type": "code",
   "execution_count": 187,
   "metadata": {},
   "outputs": [
    {
     "name": "stdout",
     "output_type": "stream",
     "text": [
      "Train F1 score of adaboost:  0.8819308545335942\n",
      "Test F1 score of adaboost:  0.8902255639097745\n"
     ]
    }
   ],
   "source": [
    "print('Train F1 score of adaboost: ', f1_score(Y_train, ada_train_pred))\n",
    "print('Test F1 score of adaboost: ', f1_score(Y_test, ada_test_pred))"
   ]
  },
  {
   "cell_type": "code",
   "execution_count": 188,
   "metadata": {},
   "outputs": [
    {
     "name": "stdout",
     "output_type": "stream",
     "text": [
      "Train accuracy score of adaboost:  0.8303655107778819\n",
      "Test accuracy score of adaboost:  0.8406113537117904\n"
     ]
    }
   ],
   "source": [
    "print('Train accuracy score of adaboost: ', accuracy_score(Y_train, ada_train_pred))\n",
    "print('Test accuracy score of adaboost: ', accuracy_score(Y_test, ada_test_pred))"
   ]
  },
  {
   "cell_type": "code",
   "execution_count": 189,
   "metadata": {},
   "outputs": [
    {
     "name": "stdout",
     "output_type": "stream",
     "text": [
      "[[ 89  50]\n",
      " [ 23 296]]\n"
     ]
    }
   ],
   "source": [
    "print(confusion_matrix(Y_test, ada_test_pred))"
   ]
  },
  {
   "cell_type": "code",
   "execution_count": 190,
   "metadata": {},
   "outputs": [
    {
     "name": "stdout",
     "output_type": "stream",
     "text": [
      "              precision    recall  f1-score   support\n",
      "\n",
      "           0       0.79      0.64      0.71       139\n",
      "           1       0.86      0.93      0.89       319\n",
      "\n",
      "    accuracy                           0.84       458\n",
      "   macro avg       0.83      0.78      0.80       458\n",
      "weighted avg       0.84      0.84      0.84       458\n",
      "\n"
     ]
    }
   ],
   "source": [
    "print(classification_report(Y_test, ada_test_pred))"
   ]
  },
  {
   "cell_type": "code",
   "execution_count": 191,
   "metadata": {},
   "outputs": [
    {
     "name": "stdout",
     "output_type": "stream",
     "text": [
      "AUC: 0.784\n"
     ]
    },
    {
     "data": {
      "text/plain": [
       "[<matplotlib.lines.Line2D at 0x22c6b3d7ba8>]"
      ]
     },
     "execution_count": 191,
     "metadata": {},
     "output_type": "execute_result"
    },
    {
     "data": {
      "image/png": "[encoded data removed]",
      "text/plain": [
       "<Figure size 432x288 with 1 Axes>"
      ]
     },
     "metadata": {
      "needs_background": "light"
     },
     "output_type": "display_data"
    }
   ],
   "source": [
    "# calculate AUC\n",
    "ada_test_auc = roc_auc_score(Y_test, ada_test_pred)\n",
    "print('AUC: %.3f' % ada_test_auc)\n",
    "# calculate roc curve\n",
    "ada_test_fpr, ada_test_tpr, cart_train_thresholds = roc_curve(Y_test, ada_test_pred)\n",
    "plt.plot([0, 1], [0, 1], linestyle='--')\n",
    "# plot the roc curve for the model\n",
    "plt.plot(ada_test_fpr, ada_test_tpr)"
   ]
  },
  {
   "cell_type": "markdown",
   "metadata": {},
   "source": [
    "### Hyperparameter tuning using adaboost"
   ]
  },
  {
   "cell_type": "code",
   "execution_count": 192,
   "metadata": {},
   "outputs": [],
   "source": [
    "grid = dict()\n",
    "grid['n_estimators'] = [100,200,300,500]\n",
    "grid['learning_rate'] = [0.05, 0.10, 0.15, 0.20]\n",
    "adamodel = AdaBoostClassifier()"
   ]
  },
  {
   "cell_type": "code",
   "execution_count": 193,
   "metadata": {},
   "outputs": [],
   "source": [
    "grid_search = GridSearchCV(estimator=adamodel, param_grid=grid, n_jobs=-1, cv=3)"
   ]
  },
  {
   "cell_type": "code",
   "execution_count": 194,
   "metadata": {},
   "outputs": [
    {
     "data": {
      "text/plain": [
       "GridSearchCV(cv=3, estimator=AdaBoostClassifier(), n_jobs=-1,\n",
       "             param_grid={'learning_rate': [0.05, 0.1, 0.15, 0.2],\n",
       "                         'n_estimators': [100, 200, 300, 500]})"
      ]
     },
     "execution_count": 194,
     "metadata": {},
     "output_type": "execute_result"
    }
   ],
   "source": [
    "grid_search.fit(X_train, Y_train)"
   ]
  },
  {
   "cell_type": "code",
   "execution_count": 195,
   "metadata": {},
   "outputs": [
    {
     "data": {
      "text/plain": [
       "{'learning_rate': 0.1, 'n_estimators': 300}"
      ]
     },
     "execution_count": 195,
     "metadata": {},
     "output_type": "execute_result"
    }
   ],
   "source": [
    "grid_search.best_params_"
   ]
  },
  {
   "cell_type": "markdown",
   "metadata": {},
   "source": [
    "### Adaboost using hyperparameters"
   ]
  },
  {
   "cell_type": "code",
   "execution_count": 196,
   "metadata": {},
   "outputs": [],
   "source": [
    "abehp = DecisionTreeClassifier(max_depth=1)"
   ]
  },
  {
   "cell_type": "code",
   "execution_count": 197,
   "metadata": {},
   "outputs": [
    {
     "data": {
      "text/plain": [
       "AdaBoostClassifier(base_estimator=DecisionTreeClassifier(max_depth=1),\n",
       "                   learning_rate=0.1, n_estimators=300, random_state=1)"
      ]
     },
     "execution_count": 197,
     "metadata": {},
     "output_type": "execute_result"
    }
   ],
   "source": [
    "abehp = AdaBoostClassifier(base_estimator=abe, n_estimators=300, random_state=1, learning_rate=0.1)\n",
    "abehp.fit(X_train, Y_train)"
   ]
  },
  {
   "cell_type": "code",
   "execution_count": 198,
   "metadata": {},
   "outputs": [],
   "source": [
    "abehp_train_pred = ada.predict(X_train)\n",
    "abehp_test_pred = ada.predict(X_test)"
   ]
  },
  {
   "cell_type": "code",
   "execution_count": 199,
   "metadata": {},
   "outputs": [
    {
     "name": "stdout",
     "output_type": "stream",
     "text": [
      "Train F1 score of adaboost:  0.8819308545335942\n",
      "Test F1 score of adaboost:  0.8902255639097745\n"
     ]
    }
   ],
   "source": [
    "print('Train F1 score of adaboost: ', f1_score(Y_train, abehp_train_pred))\n",
    "print('Test F1 score of adaboost: ', f1_score(Y_test, abehp_test_pred))"
   ]
  },
  {
   "cell_type": "code",
   "execution_count": 200,
   "metadata": {},
   "outputs": [
    {
     "name": "stdout",
     "output_type": "stream",
     "text": [
      "Train accuracy score of adaboost:  0.8303655107778819\n",
      "Test accuracy score of adaboost:  0.8406113537117904\n"
     ]
    }
   ],
   "source": [
    "print('Train accuracy score of adaboost: ', accuracy_score(Y_train, abehp_train_pred))\n",
    "print('Test accuracy score of adaboost: ', accuracy_score(Y_test, abehp_test_pred))"
   ]
  },
  {
   "cell_type": "code",
   "execution_count": 201,
   "metadata": {},
   "outputs": [
    {
     "name": "stdout",
     "output_type": "stream",
     "text": [
      "[[ 89  50]\n",
      " [ 23 296]]\n"
     ]
    }
   ],
   "source": [
    "print(confusion_matrix(Y_test, abehp_test_pred))"
   ]
  },
  {
   "cell_type": "code",
   "execution_count": 202,
   "metadata": {},
   "outputs": [
    {
     "name": "stdout",
     "output_type": "stream",
     "text": [
      "              precision    recall  f1-score   support\n",
      "\n",
      "           0       0.79      0.64      0.71       139\n",
      "           1       0.86      0.93      0.89       319\n",
      "\n",
      "    accuracy                           0.84       458\n",
      "   macro avg       0.83      0.78      0.80       458\n",
      "weighted avg       0.84      0.84      0.84       458\n",
      "\n"
     ]
    }
   ],
   "source": [
    "print(classification_report(Y_test, abehp_test_pred))"
   ]
  },
  {
   "cell_type": "code",
   "execution_count": 203,
   "metadata": {},
   "outputs": [
    {
     "name": "stdout",
     "output_type": "stream",
     "text": [
      "AUC: 0.784\n"
     ]
    },
    {
     "data": {
      "text/plain": [
       "[<matplotlib.lines.Line2D at 0x22c6b4b5a90>]"
      ]
     },
     "execution_count": 203,
     "metadata": {},
     "output_type": "execute_result"
    },
    {
     "data": {
      "image/png": "[encoded data removed]",
      "text/plain": [
       "<Figure size 432x288 with 1 Axes>"
      ]
     },
     "metadata": {
      "needs_background": "light"
     },
     "output_type": "display_data"
    }
   ],
   "source": [
    "# calculate AUC\n",
    "abehp_test_auc = roc_auc_score(Y_test, abehp_test_pred)\n",
    "print('AUC: %.3f' % abehp_test_auc)\n",
    "# calculate roc curve\n",
    "abehp_test_fpr, abehp_test_tpr, cart_train_thresholds = roc_curve(Y_test, abehp_test_pred)\n",
    "plt.plot([0, 1], [0, 1], linestyle='--')\n",
    "# plot the roc curve for the model\n",
    "plt.plot(abehp_test_fpr, abehp_test_tpr)"
   ]
  },
  {
   "cell_type": "markdown",
   "metadata": {},
   "source": [
    "#### Applying gradient boosting model"
   ]
  },
  {
   "cell_type": "code",
   "execution_count": 204,
   "metadata": {},
   "outputs": [],
   "source": [
    "from sklearn.ensemble import GradientBoostingClassifier"
   ]
  },
  {
   "cell_type": "code",
   "execution_count": 205,
   "metadata": {},
   "outputs": [
    {
     "data": {
      "text/plain": [
       "GradientBoostingClassifier(random_state=1)"
      ]
     },
     "execution_count": 205,
     "metadata": {},
     "output_type": "execute_result"
    }
   ],
   "source": [
    "gbc = GradientBoostingClassifier(n_estimators=100, random_state=1)\n",
    "gbc.fit(X_train, Y_train)"
   ]
  },
  {
   "cell_type": "code",
   "execution_count": 206,
   "metadata": {},
   "outputs": [],
   "source": [
    "gbc_train_pred = gbc.predict(X_train)\n",
    "gbc_test_pred = gbc.predict(X_test)"
   ]
  },
  {
   "cell_type": "code",
   "execution_count": 207,
   "metadata": {},
   "outputs": [
    {
     "name": "stdout",
     "output_type": "stream",
     "text": [
      "Train F1 score of gradient boosting:  0.9211563731931669\n",
      "Test F1 score of gradient boosting:  0.8858447488584476\n"
     ]
    }
   ],
   "source": [
    "print('Train F1 score of gradient boosting: ', f1_score(Y_train, gbc_train_pred))\n",
    "print('Test F1 score of gradient boosting: ', f1_score(Y_test, gbc_test_pred))"
   ]
  },
  {
   "cell_type": "code",
   "execution_count": 208,
   "metadata": {},
   "outputs": [
    {
     "name": "stdout",
     "output_type": "stream",
     "text": [
      "Train accuracy score of gradient boosting:  0.887535145267104\n",
      "Test accuracy score of gradient boosting:  0.8362445414847162\n"
     ]
    }
   ],
   "source": [
    "print('Train accuracy score of gradient boosting: ', accuracy_score(Y_train, gbc_train_pred))\n",
    "print('Test accuracy score of gradient boosting: ', accuracy_score(Y_test, gbc_test_pred))"
   ]
  },
  {
   "cell_type": "code",
   "execution_count": 209,
   "metadata": {},
   "outputs": [
    {
     "name": "stdout",
     "output_type": "stream",
     "text": [
      "[[ 92  47]\n",
      " [ 28 291]]\n"
     ]
    }
   ],
   "source": [
    "print(confusion_matrix(Y_test, gbc_test_pred))"
   ]
  },
  {
   "cell_type": "code",
   "execution_count": 210,
   "metadata": {},
   "outputs": [
    {
     "name": "stdout",
     "output_type": "stream",
     "text": [
      "              precision    recall  f1-score   support\n",
      "\n",
      "           0       0.77      0.66      0.71       139\n",
      "           1       0.86      0.91      0.89       319\n",
      "\n",
      "    accuracy                           0.84       458\n",
      "   macro avg       0.81      0.79      0.80       458\n",
      "weighted avg       0.83      0.84      0.83       458\n",
      "\n"
     ]
    }
   ],
   "source": [
    "print(classification_report(Y_test, gbc_test_pred))"
   ]
  },
  {
   "cell_type": "code",
   "execution_count": 211,
   "metadata": {},
   "outputs": [
    {
     "name": "stdout",
     "output_type": "stream",
     "text": [
      "AUC: 0.784\n"
     ]
    },
    {
     "data": {
      "text/plain": [
       "[<matplotlib.lines.Line2D at 0x22c6b508048>]"
      ]
     },
     "execution_count": 211,
     "metadata": {},
     "output_type": "execute_result"
    },
    {
     "data": {
      "image/png": "[encoded data removed]",
      "text/plain": [
       "<Figure size 432x288 with 1 Axes>"
      ]
     },
     "metadata": {
      "needs_background": "light"
     },
     "output_type": "display_data"
    }
   ],
   "source": [
    "# calculate AUC\n",
    "gbc_test_auc = roc_auc_score(Y_test, gbc_test_pred)\n",
    "print('AUC: %.3f' % abehp_test_auc)\n",
    "# calculate roc curve\n",
    "gbc_test_fpr, gbc_test_tpr, cart_train_thresholds = roc_curve(Y_test, gbc_test_pred)\n",
    "plt.plot([0, 1], [0, 1], linestyle='--')\n",
    "# plot the roc curve for the model\n",
    "plt.plot(gbc_test_fpr, gbc_test_tpr)"
   ]
  },
  {
   "cell_type": "markdown",
   "metadata": {},
   "source": [
    "### Hyperparameter tuning using gradient boosting"
   ]
  },
  {
   "cell_type": "code",
   "execution_count": 212,
   "metadata": {},
   "outputs": [],
   "source": [
    "gbch = GradientBoostingClassifier(random_state=1)"
   ]
  },
  {
   "cell_type": "code",
   "execution_count": 213,
   "metadata": {},
   "outputs": [],
   "source": [
    "param_grid = {\n",
    "    'learning_rate': [0.05,0.10,0.15,0.20],\n",
    "    'max_depth': [8,10,15,20],\n",
    "    'min_samples_leaf': [50,70,90,150],\n",
    "    'min_samples_split': [150, 200,250,400],\n",
    "    'n_estimators': [200,300,500,800]\n",
    "}"
   ]
  },
  {
   "cell_type": "code",
   "execution_count": 214,
   "metadata": {},
   "outputs": [],
   "source": [
    "grid_search = GridSearchCV(estimator = gbch, param_grid = param_grid, cv = 3,n_jobs=-1)"
   ]
  },
  {
   "cell_type": "code",
   "execution_count": 215,
   "metadata": {},
   "outputs": [
    {
     "data": {
      "text/plain": [
       "GridSearchCV(cv=3, estimator=GradientBoostingClassifier(random_state=1),\n",
       "             n_jobs=-1,\n",
       "             param_grid={'learning_rate': [0.05, 0.1, 0.15, 0.2],\n",
       "                         'max_depth': [8, 10, 15, 20],\n",
       "                         'min_samples_leaf': [50, 70, 90, 150],\n",
       "                         'min_samples_split': [150, 200, 250, 400],\n",
       "                         'n_estimators': [200, 300, 500, 800]})"
      ]
     },
     "execution_count": 215,
     "metadata": {},
     "output_type": "execute_result"
    }
   ],
   "source": [
    "grid_search.fit(X_train, Y_train)"
   ]
  },
  {
   "cell_type": "code",
   "execution_count": 216,
   "metadata": {},
   "outputs": [
    {
     "data": {
      "text/plain": [
       "{'learning_rate': 0.05,\n",
       " 'max_depth': 8,\n",
       " 'min_samples_leaf': 50,\n",
       " 'min_samples_split': 400,\n",
       " 'n_estimators': 200}"
      ]
     },
     "execution_count": 216,
     "metadata": {},
     "output_type": "execute_result"
    }
   ],
   "source": [
    "grid_search.best_params_"
   ]
  },
  {
   "cell_type": "markdown",
   "metadata": {},
   "source": [
    "### Gradient boosting using hyperparameters"
   ]
  },
  {
   "cell_type": "code",
   "execution_count": 217,
   "metadata": {},
   "outputs": [
    {
     "data": {
      "text/plain": [
       "GradientBoostingClassifier(learning_rate=0.05, max_depth=8, min_samples_leaf=50,\n",
       "                           min_samples_split=400, n_estimators=200,\n",
       "                           random_state=1)"
      ]
     },
     "execution_count": 217,
     "metadata": {},
     "output_type": "execute_result"
    }
   ],
   "source": [
    "gbchp = GradientBoostingClassifier(n_estimators=200, random_state=1, min_samples_split=400, min_samples_leaf=50, max_depth=8, learning_rate=0.05)\n",
    "gbchp.fit(X_train, Y_train)"
   ]
  },
  {
   "cell_type": "code",
   "execution_count": 218,
   "metadata": {},
   "outputs": [],
   "source": [
    "gbchp_train_pred = gbc.predict(X_train)\n",
    "gbchp_test_pred = gbc.predict(X_test)"
   ]
  },
  {
   "cell_type": "code",
   "execution_count": 219,
   "metadata": {},
   "outputs": [
    {
     "name": "stdout",
     "output_type": "stream",
     "text": [
      "Train F1 score of gradient boosting:  0.9211563731931669\n",
      "Test F1 score of gradient boosting:  0.8858447488584476\n"
     ]
    }
   ],
   "source": [
    "print('Train F1 score of gradient boosting: ', f1_score(Y_train, gbchp_train_pred))\n",
    "print('Test F1 score of gradient boosting: ', f1_score(Y_test, gbchp_test_pred))"
   ]
  },
  {
   "cell_type": "code",
   "execution_count": 220,
   "metadata": {},
   "outputs": [
    {
     "name": "stdout",
     "output_type": "stream",
     "text": [
      "Train accuracy score of gradient boosting:  0.887535145267104\n",
      "Test accuracy score of gradient boosting:  0.8362445414847162\n"
     ]
    }
   ],
   "source": [
    "print('Train accuracy score of gradient boosting: ', accuracy_score(Y_train, gbchp_train_pred))\n",
    "print('Test accuracy score of gradient boosting: ', accuracy_score(Y_test, gbchp_test_pred))"
   ]
  },
  {
   "cell_type": "code",
   "execution_count": 224,
   "metadata": {},
   "outputs": [
    {
     "name": "stdout",
     "output_type": "stream",
     "text": [
      "[[ 92  47]\n",
      " [ 28 291]]\n"
     ]
    }
   ],
   "source": [
    "print(confusion_matrix(Y_test, gbchp_test_pred))"
   ]
  },
  {
   "cell_type": "code",
   "execution_count": 225,
   "metadata": {},
   "outputs": [
    {
     "name": "stdout",
     "output_type": "stream",
     "text": [
      "              precision    recall  f1-score   support\n",
      "\n",
      "           0       0.77      0.66      0.71       139\n",
      "           1       0.86      0.91      0.89       319\n",
      "\n",
      "    accuracy                           0.84       458\n",
      "   macro avg       0.81      0.79      0.80       458\n",
      "weighted avg       0.83      0.84      0.83       458\n",
      "\n"
     ]
    }
   ],
   "source": [
    "print(classification_report(Y_test, gbchp_test_pred))"
   ]
  },
  {
   "cell_type": "code",
   "execution_count": 227,
   "metadata": {},
   "outputs": [
    {
     "name": "stdout",
     "output_type": "stream",
     "text": [
      "AUC: 0.787\n"
     ]
    },
    {
     "data": {
      "text/plain": [
       "[<matplotlib.lines.Line2D at 0x22c6b7f7c50>]"
      ]
     },
     "execution_count": 227,
     "metadata": {},
     "output_type": "execute_result"
    },
    {
     "data": {
      "image/png": "[encoded data removed]",
      "text/plain": [
       "<Figure size 432x288 with 1 Axes>"
      ]
     },
     "metadata": {
      "needs_background": "light"
     },
     "output_type": "display_data"
    }
   ],
   "source": [
    "# calculate AUC\n",
    "gbchp_test_auc = roc_auc_score(Y_test, gbchp_test_pred)\n",
    "print('AUC: %.3f' % gbchp_test_auc)\n",
    "# calculate roc curve\n",
    "gbchp_test_fpr, gbchp_test_tpr, cart_train_thresholds = roc_curve(Y_test, gbchp_test_pred)\n",
    "plt.plot([0, 1], [0, 1], linestyle='--')\n",
    "# plot the roc curve for the model\n",
    "plt.plot(gbchp_test_fpr, gbchp_test_tpr)"
   ]
  },
  {
   "cell_type": "code",
   "execution_count": null,
   "metadata": {},
   "outputs": [],
   "source": []
  },
  {
   "cell_type": "code",
   "execution_count": 581,
   "metadata": {},
   "outputs": [],
   "source": [
    "## Based on the above models, KNN is the best model. As it has low bias, low variance and goood f1-score and accuracy score on\n",
    "## test data."
   ]
  }
 ],
 "metadata": {
  "kernelspec": {
   "display_name": "Python 3",
   "language": "python",
   "name": "python3"
  },
  "language_info": {
   "codemirror_mode": {
    "name": "ipython",
    "version": 3
   },
   "file_extension": ".py",
   "mimetype": "text/x-python",
   "name": "python",
   "nbconvert_exporter": "python",
   "pygments_lexer": "ipython3",
   "version": "3.7.3"
  }
 },
 "nbformat": 4,
 "nbformat_minor": 2
}
